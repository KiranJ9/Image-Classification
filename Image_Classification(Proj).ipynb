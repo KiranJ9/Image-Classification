{
  "nbformat": 4,
  "nbformat_minor": 0,
  "metadata": {
    "colab": {
      "name": "Image Classification(Proj).ipynb",
      "provenance": [],
      "collapsed_sections": [],
      "toc_visible": true,
      "include_colab_link": true
    },
    "kernelspec": {
      "name": "python3",
      "display_name": "Python 3"
    },
    "language_info": {
      "name": "python"
    }
  },
  "cells": [
    {
      "cell_type": "markdown",
      "metadata": {
        "id": "view-in-github",
        "colab_type": "text"
      },
      "source": [
        "<a href=\"https://colab.research.google.com/github/KiranJ9/Image-Classification/blob/main/Image_Classification(Proj).ipynb\" target=\"_parent\"><img src=\"https://colab.research.google.com/assets/colab-badge.svg\" alt=\"Open In Colab\"/></a>"
      ]
    },
    {
      "cell_type": "code",
      "metadata": {
        "id": "TdhS8hVVYCYc",
        "colab": {
          "base_uri": "https://localhost:8080/"
        },
        "outputId": "8d0d229a-452e-4653-d272-11761ad63376"
      },
      "source": [
        "#Check execution time\n",
        "!pip install ipython-autotime --quiet\n",
        "%load_ext autotime"
      ],
      "execution_count": 1,
      "outputs": [
        {
          "output_type": "stream",
          "text": [
            "time: 2.94 ms (started: 2021-04-29 11:54:37 +00:00)\n"
          ],
          "name": "stdout"
        }
      ]
    },
    {
      "cell_type": "code",
      "metadata": {
        "id": "jkwZ7YlQ0Pyk",
        "colab": {
          "base_uri": "https://localhost:8080/"
        },
        "outputId": "d513dc19-520c-4d87-ab53-39b09c0dd96f"
      },
      "source": [
        "#Importing Data via Google Drive.\n",
        "#Mounting the Google Drive and Uploading the imagedata folder on the drive."
      ],
      "execution_count": 2,
      "outputs": [
        {
          "output_type": "stream",
          "text": [
            "time: 4.22 ms (started: 2021-04-29 11:54:37 +00:00)\n"
          ],
          "name": "stdout"
        }
      ]
    },
    {
      "cell_type": "code",
      "metadata": {
        "colab": {
          "base_uri": "https://localhost:8080/"
        },
        "id": "cfsUnwiCxzQ8",
        "outputId": "e666acb4-2ce9-42c2-f2eb-d35bae6f7f99"
      },
      "source": [
        "from google.colab import drive\n",
        "drive.mount('/content/drive',force_remount=True)"
      ],
      "execution_count": 3,
      "outputs": [
        {
          "output_type": "stream",
          "text": [
            "Mounted at /content/drive\n",
            "time: 44.3 s (started: 2021-04-29 11:54:38 +00:00)\n"
          ],
          "name": "stdout"
        }
      ]
    },
    {
      "cell_type": "code",
      "metadata": {
        "id": "ww8CJQjCw51G",
        "colab": {
          "base_uri": "https://localhost:8080/"
        },
        "outputId": "0b4c67e6-ad5c-4825-8c10-51158b6b9e33"
      },
      "source": [
        "#Preprocessing the ImageData\n",
        "import os\n",
        "import matplotlib.pyplot as plt\n",
        "import numpy as np\n",
        "from skimage.io import imread #To read the image\n",
        "from skimage.transform import resize #Resizing the image\n",
        "\n",
        "output = []\n",
        "images = []\n",
        "flat_data = []\n",
        "\n",
        "#DATADIR = '/content/drive/MyDrive/ImageData'\n",
        "#DATADIR = '/content/drive/MyDrive/AI/Object Detection Youtube Live Session'\n",
        "DATADIR = '/content/drive/MyDrive/imagedata' #Data path\n",
        "CATEGORIES = ['burger','pizza','tasty pasta']\n",
        "for category in CATEGORIES:\n",
        "  num_class = CATEGORIES.index(category)\n",
        "  print(num_class)\n",
        "  path = os.path.join(DATADIR,category)\n",
        "  print(path)\n",
        "  for img in os.listdir(path):\n",
        "    img_read = imread(os.path.join(path,img))\n",
        "    #print(img_read)\n",
        "    resized_img = resize(img_read,(100,100,3)) #Resizing the image\n",
        "    flat_data.append(resized_img.flatten()) #Flattening the image\n",
        "    images.append(resized_img)\n",
        "    output.append(num_class)\n",
        "flat_data = np.array(flat_data)\n",
        "output = np.array(output)\n",
        "images = np.array(images)"
      ],
      "execution_count": 4,
      "outputs": [
        {
          "output_type": "stream",
          "text": [
            "0\n",
            "/content/drive/MyDrive/imagedata/burger\n",
            "1\n",
            "/content/drive/MyDrive/imagedata/pizza\n",
            "2\n",
            "/content/drive/MyDrive/imagedata/tasty pasta\n",
            "time: 1min 36s (started: 2021-04-29 11:55:22 +00:00)\n"
          ],
          "name": "stdout"
        }
      ]
    },
    {
      "cell_type": "code",
      "metadata": {
        "colab": {
          "base_uri": "https://localhost:8080/"
        },
        "id": "v9C3Mr1XJ0jN",
        "outputId": "bb1407fb-d4b3-4c01-f28b-b9143d07880f"
      },
      "source": [
        "flat_data[0]"
      ],
      "execution_count": 5,
      "outputs": [
        {
          "output_type": "execute_result",
          "data": {
            "text/plain": [
              "array([0.94509804, 0.94509804, 0.95294118, ..., 0.77921569, 0.68117647,\n",
              "       0.43019608])"
            ]
          },
          "metadata": {
            "tags": []
          },
          "execution_count": 5
        },
        {
          "output_type": "stream",
          "text": [
            "time: 8.15 ms (started: 2021-04-29 11:57:00 +00:00)\n"
          ],
          "name": "stdout"
        }
      ]
    },
    {
      "cell_type": "code",
      "metadata": {
        "colab": {
          "base_uri": "https://localhost:8080/"
        },
        "id": "pBqrkB7E3imA",
        "outputId": "c89b8626-a659-4917-98ca-227aa633da2c"
      },
      "source": [
        "flat_data.ndim"
      ],
      "execution_count": 6,
      "outputs": [
        {
          "output_type": "execute_result",
          "data": {
            "text/plain": [
              "2"
            ]
          },
          "metadata": {
            "tags": []
          },
          "execution_count": 6
        },
        {
          "output_type": "stream",
          "text": [
            "time: 7.19 ms (started: 2021-04-29 11:57:00 +00:00)\n"
          ],
          "name": "stdout"
        }
      ]
    },
    {
      "cell_type": "code",
      "metadata": {
        "colab": {
          "base_uri": "https://localhost:8080/"
        },
        "id": "Frg875s6VQbJ",
        "outputId": "c65e8969-9a5d-4dae-d28a-7c3c3e509a1f"
      },
      "source": [
        "print(output)"
      ],
      "execution_count": 7,
      "outputs": [
        {
          "output_type": "stream",
          "text": [
            "[0 0 0 0 0 0 0 0 0 0 0 0 0 0 0 0 0 0 0 0 0 0 0 0 0 0 0 0 0 0 0 0 0 0 0 0 0\n",
            " 0 0 0 0 0 0 0 0 0 0 0 0 0 0 0 0 0 0 0 0 0 0 0 1 1 1 1 1 1 1 1 1 1 1 1 1 1\n",
            " 1 1 1 1 1 1 1 1 1 1 1 1 1 1 1 1 1 1 1 1 1 1 1 1 1 1 1 1 1 1 1 1 1 1 1 1 1\n",
            " 1 1 1 1 1 1 1 1 1 2 2 2 2 2 2 2 2 2 2 2 2 2 2 2 2 2 2 2 2 2 2 2 2 2 2 2 2\n",
            " 2 2 2 2 2 2 2 2 2 2 2 2 2 2 2 2 2 2 2 2 2 2 2 2 2 2 2 2 2 2 2 2]\n",
            "time: 7.02 ms (started: 2021-04-29 11:57:00 +00:00)\n"
          ],
          "name": "stdout"
        }
      ]
    },
    {
      "cell_type": "code",
      "metadata": {
        "colab": {
          "base_uri": "https://localhost:8080/"
        },
        "id": "-QwIWY0BfuqB",
        "outputId": "63650eb4-f306-45b5-f76a-db8634d2d3ad"
      },
      "source": [
        "len(output)"
      ],
      "execution_count": 8,
      "outputs": [
        {
          "output_type": "execute_result",
          "data": {
            "text/plain": [
              "180"
            ]
          },
          "metadata": {
            "tags": []
          },
          "execution_count": 8
        },
        {
          "output_type": "stream",
          "text": [
            "time: 11.3 ms (started: 2021-04-29 11:57:00 +00:00)\n"
          ],
          "name": "stdout"
        }
      ]
    },
    {
      "cell_type": "code",
      "metadata": {
        "id": "JYppdXaqbrC-",
        "colab": {
          "base_uri": "https://localhost:8080/",
          "height": 261
        },
        "outputId": "b5d81d17-0446-4a2c-c2ea-9ca1ac33bb88"
      },
      "source": [
        "import pandas as pd\n",
        "df = pd.DataFrame(data = flat_data, \n",
        "                index = output)\n",
        "df.head()"
      ],
      "execution_count": 9,
      "outputs": [
        {
          "output_type": "execute_result",
          "data": {
            "text/html": [
              "<div>\n",
              "<style scoped>\n",
              "    .dataframe tbody tr th:only-of-type {\n",
              "        vertical-align: middle;\n",
              "    }\n",
              "\n",
              "    .dataframe tbody tr th {\n",
              "        vertical-align: top;\n",
              "    }\n",
              "\n",
              "    .dataframe thead th {\n",
              "        text-align: right;\n",
              "    }\n",
              "</style>\n",
              "<table border=\"1\" class=\"dataframe\">\n",
              "  <thead>\n",
              "    <tr style=\"text-align: right;\">\n",
              "      <th></th>\n",
              "      <th>0</th>\n",
              "      <th>1</th>\n",
              "      <th>2</th>\n",
              "      <th>3</th>\n",
              "      <th>4</th>\n",
              "      <th>5</th>\n",
              "      <th>6</th>\n",
              "      <th>7</th>\n",
              "      <th>8</th>\n",
              "      <th>9</th>\n",
              "      <th>10</th>\n",
              "      <th>11</th>\n",
              "      <th>12</th>\n",
              "      <th>13</th>\n",
              "      <th>14</th>\n",
              "      <th>15</th>\n",
              "      <th>16</th>\n",
              "      <th>17</th>\n",
              "      <th>18</th>\n",
              "      <th>19</th>\n",
              "      <th>20</th>\n",
              "      <th>21</th>\n",
              "      <th>22</th>\n",
              "      <th>23</th>\n",
              "      <th>24</th>\n",
              "      <th>25</th>\n",
              "      <th>26</th>\n",
              "      <th>27</th>\n",
              "      <th>28</th>\n",
              "      <th>29</th>\n",
              "      <th>30</th>\n",
              "      <th>31</th>\n",
              "      <th>32</th>\n",
              "      <th>33</th>\n",
              "      <th>34</th>\n",
              "      <th>35</th>\n",
              "      <th>36</th>\n",
              "      <th>37</th>\n",
              "      <th>38</th>\n",
              "      <th>39</th>\n",
              "      <th>...</th>\n",
              "      <th>29960</th>\n",
              "      <th>29961</th>\n",
              "      <th>29962</th>\n",
              "      <th>29963</th>\n",
              "      <th>29964</th>\n",
              "      <th>29965</th>\n",
              "      <th>29966</th>\n",
              "      <th>29967</th>\n",
              "      <th>29968</th>\n",
              "      <th>29969</th>\n",
              "      <th>29970</th>\n",
              "      <th>29971</th>\n",
              "      <th>29972</th>\n",
              "      <th>29973</th>\n",
              "      <th>29974</th>\n",
              "      <th>29975</th>\n",
              "      <th>29976</th>\n",
              "      <th>29977</th>\n",
              "      <th>29978</th>\n",
              "      <th>29979</th>\n",
              "      <th>29980</th>\n",
              "      <th>29981</th>\n",
              "      <th>29982</th>\n",
              "      <th>29983</th>\n",
              "      <th>29984</th>\n",
              "      <th>29985</th>\n",
              "      <th>29986</th>\n",
              "      <th>29987</th>\n",
              "      <th>29988</th>\n",
              "      <th>29989</th>\n",
              "      <th>29990</th>\n",
              "      <th>29991</th>\n",
              "      <th>29992</th>\n",
              "      <th>29993</th>\n",
              "      <th>29994</th>\n",
              "      <th>29995</th>\n",
              "      <th>29996</th>\n",
              "      <th>29997</th>\n",
              "      <th>29998</th>\n",
              "      <th>29999</th>\n",
              "    </tr>\n",
              "  </thead>\n",
              "  <tbody>\n",
              "    <tr>\n",
              "      <th>0</th>\n",
              "      <td>0.945098</td>\n",
              "      <td>0.945098</td>\n",
              "      <td>0.952941</td>\n",
              "      <td>0.945098</td>\n",
              "      <td>0.945098</td>\n",
              "      <td>0.952941</td>\n",
              "      <td>0.945098</td>\n",
              "      <td>0.945098</td>\n",
              "      <td>0.952941</td>\n",
              "      <td>0.945098</td>\n",
              "      <td>0.945098</td>\n",
              "      <td>0.952941</td>\n",
              "      <td>0.945098</td>\n",
              "      <td>0.945098</td>\n",
              "      <td>0.949020</td>\n",
              "      <td>0.945098</td>\n",
              "      <td>0.945098</td>\n",
              "      <td>0.945098</td>\n",
              "      <td>0.945098</td>\n",
              "      <td>0.945098</td>\n",
              "      <td>0.945098</td>\n",
              "      <td>0.943765</td>\n",
              "      <td>0.943765</td>\n",
              "      <td>0.943765</td>\n",
              "      <td>0.946353</td>\n",
              "      <td>0.946353</td>\n",
              "      <td>0.946353</td>\n",
              "      <td>0.941176</td>\n",
              "      <td>0.941176</td>\n",
              "      <td>0.941176</td>\n",
              "      <td>0.941176</td>\n",
              "      <td>0.941176</td>\n",
              "      <td>0.941176</td>\n",
              "      <td>0.943765</td>\n",
              "      <td>0.943765</td>\n",
              "      <td>0.943765</td>\n",
              "      <td>0.948941</td>\n",
              "      <td>0.948941</td>\n",
              "      <td>0.948941</td>\n",
              "      <td>0.932000</td>\n",
              "      <td>...</td>\n",
              "      <td>0.423608</td>\n",
              "      <td>0.745176</td>\n",
              "      <td>0.651059</td>\n",
              "      <td>0.415765</td>\n",
              "      <td>0.741176</td>\n",
              "      <td>0.643137</td>\n",
              "      <td>0.419608</td>\n",
              "      <td>0.784314</td>\n",
              "      <td>0.682353</td>\n",
              "      <td>0.482353</td>\n",
              "      <td>0.784000</td>\n",
              "      <td>0.685961</td>\n",
              "      <td>0.485961</td>\n",
              "      <td>0.786902</td>\n",
              "      <td>0.708471</td>\n",
              "      <td>0.469255</td>\n",
              "      <td>0.784314</td>\n",
              "      <td>0.698039</td>\n",
              "      <td>0.474510</td>\n",
              "      <td>0.814353</td>\n",
              "      <td>0.717647</td>\n",
              "      <td>0.496706</td>\n",
              "      <td>0.788235</td>\n",
              "      <td>0.690196</td>\n",
              "      <td>0.447059</td>\n",
              "      <td>0.807843</td>\n",
              "      <td>0.713725</td>\n",
              "      <td>0.447059</td>\n",
              "      <td>0.756863</td>\n",
              "      <td>0.662745</td>\n",
              "      <td>0.388235</td>\n",
              "      <td>0.788235</td>\n",
              "      <td>0.690196</td>\n",
              "      <td>0.423529</td>\n",
              "      <td>0.763451</td>\n",
              "      <td>0.665412</td>\n",
              "      <td>0.405255</td>\n",
              "      <td>0.779216</td>\n",
              "      <td>0.681176</td>\n",
              "      <td>0.430196</td>\n",
              "    </tr>\n",
              "    <tr>\n",
              "      <th>0</th>\n",
              "      <td>0.903431</td>\n",
              "      <td>0.917647</td>\n",
              "      <td>0.933333</td>\n",
              "      <td>0.903431</td>\n",
              "      <td>0.921078</td>\n",
              "      <td>0.933333</td>\n",
              "      <td>0.906066</td>\n",
              "      <td>0.925490</td>\n",
              "      <td>0.937255</td>\n",
              "      <td>0.909804</td>\n",
              "      <td>0.925490</td>\n",
              "      <td>0.937255</td>\n",
              "      <td>0.907353</td>\n",
              "      <td>0.923039</td>\n",
              "      <td>0.934804</td>\n",
              "      <td>0.898529</td>\n",
              "      <td>0.914216</td>\n",
              "      <td>0.925980</td>\n",
              "      <td>0.889706</td>\n",
              "      <td>0.905882</td>\n",
              "      <td>0.916483</td>\n",
              "      <td>0.884804</td>\n",
              "      <td>0.912255</td>\n",
              "      <td>0.876471</td>\n",
              "      <td>0.873529</td>\n",
              "      <td>0.900980</td>\n",
              "      <td>0.862745</td>\n",
              "      <td>0.859804</td>\n",
              "      <td>0.879902</td>\n",
              "      <td>0.853922</td>\n",
              "      <td>0.848039</td>\n",
              "      <td>0.857169</td>\n",
              "      <td>0.840686</td>\n",
              "      <td>0.804412</td>\n",
              "      <td>0.809314</td>\n",
              "      <td>0.804412</td>\n",
              "      <td>0.752451</td>\n",
              "      <td>0.752451</td>\n",
              "      <td>0.757904</td>\n",
              "      <td>0.701471</td>\n",
              "      <td>...</td>\n",
              "      <td>0.905882</td>\n",
              "      <td>0.874510</td>\n",
              "      <td>0.929412</td>\n",
              "      <td>0.911275</td>\n",
              "      <td>0.874510</td>\n",
              "      <td>0.935784</td>\n",
              "      <td>0.913725</td>\n",
              "      <td>0.871078</td>\n",
              "      <td>0.937255</td>\n",
              "      <td>0.913725</td>\n",
              "      <td>0.850000</td>\n",
              "      <td>0.921078</td>\n",
              "      <td>0.897549</td>\n",
              "      <td>0.832353</td>\n",
              "      <td>0.906863</td>\n",
              "      <td>0.883333</td>\n",
              "      <td>0.807353</td>\n",
              "      <td>0.890686</td>\n",
              "      <td>0.864154</td>\n",
              "      <td>0.803431</td>\n",
              "      <td>0.889706</td>\n",
              "      <td>0.862255</td>\n",
              "      <td>0.816176</td>\n",
              "      <td>0.894608</td>\n",
              "      <td>0.869608</td>\n",
              "      <td>0.825000</td>\n",
              "      <td>0.901961</td>\n",
              "      <td>0.878431</td>\n",
              "      <td>0.841176</td>\n",
              "      <td>0.910784</td>\n",
              "      <td>0.891176</td>\n",
              "      <td>0.861765</td>\n",
              "      <td>0.928431</td>\n",
              "      <td>0.904902</td>\n",
              "      <td>0.860478</td>\n",
              "      <td>0.919301</td>\n",
              "      <td>0.899694</td>\n",
              "      <td>0.845037</td>\n",
              "      <td>0.903860</td>\n",
              "      <td>0.884252</td>\n",
              "    </tr>\n",
              "    <tr>\n",
              "      <th>0</th>\n",
              "      <td>0.050980</td>\n",
              "      <td>0.050980</td>\n",
              "      <td>0.050980</td>\n",
              "      <td>0.050980</td>\n",
              "      <td>0.050980</td>\n",
              "      <td>0.050980</td>\n",
              "      <td>0.050980</td>\n",
              "      <td>0.050980</td>\n",
              "      <td>0.050980</td>\n",
              "      <td>0.050980</td>\n",
              "      <td>0.050980</td>\n",
              "      <td>0.050980</td>\n",
              "      <td>0.050980</td>\n",
              "      <td>0.050980</td>\n",
              "      <td>0.050980</td>\n",
              "      <td>0.050980</td>\n",
              "      <td>0.050980</td>\n",
              "      <td>0.050980</td>\n",
              "      <td>0.050980</td>\n",
              "      <td>0.050980</td>\n",
              "      <td>0.050980</td>\n",
              "      <td>0.050098</td>\n",
              "      <td>0.050980</td>\n",
              "      <td>0.050098</td>\n",
              "      <td>0.046843</td>\n",
              "      <td>0.051412</td>\n",
              "      <td>0.047059</td>\n",
              "      <td>0.043137</td>\n",
              "      <td>0.062294</td>\n",
              "      <td>0.047059</td>\n",
              "      <td>0.049863</td>\n",
              "      <td>0.062745</td>\n",
              "      <td>0.050980</td>\n",
              "      <td>0.059176</td>\n",
              "      <td>0.060608</td>\n",
              "      <td>0.050980</td>\n",
              "      <td>0.069608</td>\n",
              "      <td>0.058824</td>\n",
              "      <td>0.054902</td>\n",
              "      <td>0.083961</td>\n",
              "      <td>...</td>\n",
              "      <td>0.070588</td>\n",
              "      <td>0.188235</td>\n",
              "      <td>0.106863</td>\n",
              "      <td>0.084314</td>\n",
              "      <td>0.173255</td>\n",
              "      <td>0.098392</td>\n",
              "      <td>0.082706</td>\n",
              "      <td>0.148471</td>\n",
              "      <td>0.084039</td>\n",
              "      <td>0.074510</td>\n",
              "      <td>0.137706</td>\n",
              "      <td>0.082804</td>\n",
              "      <td>0.083255</td>\n",
              "      <td>0.141176</td>\n",
              "      <td>0.093686</td>\n",
              "      <td>0.097608</td>\n",
              "      <td>0.152941</td>\n",
              "      <td>0.099804</td>\n",
              "      <td>0.100686</td>\n",
              "      <td>0.149020</td>\n",
              "      <td>0.089373</td>\n",
              "      <td>0.085451</td>\n",
              "      <td>0.161980</td>\n",
              "      <td>0.089686</td>\n",
              "      <td>0.074510</td>\n",
              "      <td>0.179588</td>\n",
              "      <td>0.104039</td>\n",
              "      <td>0.079471</td>\n",
              "      <td>0.196078</td>\n",
              "      <td>0.125490</td>\n",
              "      <td>0.090196</td>\n",
              "      <td>0.192451</td>\n",
              "      <td>0.121863</td>\n",
              "      <td>0.090196</td>\n",
              "      <td>0.189196</td>\n",
              "      <td>0.114686</td>\n",
              "      <td>0.086275</td>\n",
              "      <td>0.184314</td>\n",
              "      <td>0.109804</td>\n",
              "      <td>0.084267</td>\n",
              "    </tr>\n",
              "    <tr>\n",
              "      <th>0</th>\n",
              "      <td>0.255453</td>\n",
              "      <td>0.349020</td>\n",
              "      <td>0.368627</td>\n",
              "      <td>0.250980</td>\n",
              "      <td>0.352941</td>\n",
              "      <td>0.383333</td>\n",
              "      <td>0.242953</td>\n",
              "      <td>0.357353</td>\n",
              "      <td>0.400000</td>\n",
              "      <td>0.245159</td>\n",
              "      <td>0.362255</td>\n",
              "      <td>0.403922</td>\n",
              "      <td>0.259804</td>\n",
              "      <td>0.358333</td>\n",
              "      <td>0.384804</td>\n",
              "      <td>0.275000</td>\n",
              "      <td>0.348223</td>\n",
              "      <td>0.349510</td>\n",
              "      <td>0.283824</td>\n",
              "      <td>0.337255</td>\n",
              "      <td>0.317157</td>\n",
              "      <td>0.209252</td>\n",
              "      <td>0.344118</td>\n",
              "      <td>0.335233</td>\n",
              "      <td>0.191238</td>\n",
              "      <td>0.344118</td>\n",
              "      <td>0.348958</td>\n",
              "      <td>0.179105</td>\n",
              "      <td>0.340196</td>\n",
              "      <td>0.367770</td>\n",
              "      <td>0.166483</td>\n",
              "      <td>0.336275</td>\n",
              "      <td>0.386458</td>\n",
              "      <td>0.161275</td>\n",
              "      <td>0.333272</td>\n",
              "      <td>0.396201</td>\n",
              "      <td>0.162255</td>\n",
              "      <td>0.326900</td>\n",
              "      <td>0.398039</td>\n",
              "      <td>0.163725</td>\n",
              "      <td>...</td>\n",
              "      <td>0.237439</td>\n",
              "      <td>0.333333</td>\n",
              "      <td>0.262745</td>\n",
              "      <td>0.207843</td>\n",
              "      <td>0.358824</td>\n",
              "      <td>0.288235</td>\n",
              "      <td>0.233333</td>\n",
              "      <td>0.354718</td>\n",
              "      <td>0.284130</td>\n",
              "      <td>0.229228</td>\n",
              "      <td>0.328248</td>\n",
              "      <td>0.257659</td>\n",
              "      <td>0.202757</td>\n",
              "      <td>0.332353</td>\n",
              "      <td>0.261765</td>\n",
              "      <td>0.206863</td>\n",
              "      <td>0.337194</td>\n",
              "      <td>0.267525</td>\n",
              "      <td>0.212623</td>\n",
              "      <td>0.346752</td>\n",
              "      <td>0.274203</td>\n",
              "      <td>0.222733</td>\n",
              "      <td>0.350368</td>\n",
              "      <td>0.277328</td>\n",
              "      <td>0.222426</td>\n",
              "      <td>0.332904</td>\n",
              "      <td>0.258395</td>\n",
              "      <td>0.203493</td>\n",
              "      <td>0.326471</td>\n",
              "      <td>0.251042</td>\n",
              "      <td>0.192770</td>\n",
              "      <td>0.347549</td>\n",
              "      <td>0.270282</td>\n",
              "      <td>0.209988</td>\n",
              "      <td>0.371078</td>\n",
              "      <td>0.290012</td>\n",
              "      <td>0.230576</td>\n",
              "      <td>0.337132</td>\n",
              "      <td>0.257230</td>\n",
              "      <td>0.198468</td>\n",
              "    </tr>\n",
              "    <tr>\n",
              "      <th>0</th>\n",
              "      <td>0.993137</td>\n",
              "      <td>0.854912</td>\n",
              "      <td>0.933971</td>\n",
              "      <td>0.990216</td>\n",
              "      <td>0.848010</td>\n",
              "      <td>0.881775</td>\n",
              "      <td>0.965382</td>\n",
              "      <td>0.843088</td>\n",
              "      <td>0.855167</td>\n",
              "      <td>0.952176</td>\n",
              "      <td>0.816676</td>\n",
              "      <td>0.863069</td>\n",
              "      <td>0.958676</td>\n",
              "      <td>0.675471</td>\n",
              "      <td>0.767520</td>\n",
              "      <td>0.966059</td>\n",
              "      <td>0.483284</td>\n",
              "      <td>0.584735</td>\n",
              "      <td>0.927745</td>\n",
              "      <td>0.143804</td>\n",
              "      <td>0.167000</td>\n",
              "      <td>0.923480</td>\n",
              "      <td>0.010343</td>\n",
              "      <td>0.000000</td>\n",
              "      <td>0.956471</td>\n",
              "      <td>0.032510</td>\n",
              "      <td>0.005500</td>\n",
              "      <td>0.975235</td>\n",
              "      <td>0.052118</td>\n",
              "      <td>0.008000</td>\n",
              "      <td>0.976676</td>\n",
              "      <td>0.074549</td>\n",
              "      <td>0.000000</td>\n",
              "      <td>0.991137</td>\n",
              "      <td>0.150441</td>\n",
              "      <td>0.000000</td>\n",
              "      <td>0.995578</td>\n",
              "      <td>0.214608</td>\n",
              "      <td>0.024912</td>\n",
              "      <td>0.988294</td>\n",
              "      <td>...</td>\n",
              "      <td>0.748039</td>\n",
              "      <td>0.876471</td>\n",
              "      <td>0.817647</td>\n",
              "      <td>0.749020</td>\n",
              "      <td>0.871147</td>\n",
              "      <td>0.812324</td>\n",
              "      <td>0.727451</td>\n",
              "      <td>0.865627</td>\n",
              "      <td>0.808725</td>\n",
              "      <td>0.715588</td>\n",
              "      <td>0.888196</td>\n",
              "      <td>0.837196</td>\n",
              "      <td>0.752902</td>\n",
              "      <td>0.890657</td>\n",
              "      <td>0.862225</td>\n",
              "      <td>0.787716</td>\n",
              "      <td>0.905824</td>\n",
              "      <td>0.894578</td>\n",
              "      <td>0.826412</td>\n",
              "      <td>0.672049</td>\n",
              "      <td>0.663706</td>\n",
              "      <td>0.592137</td>\n",
              "      <td>0.776510</td>\n",
              "      <td>0.760304</td>\n",
              "      <td>0.675010</td>\n",
              "      <td>0.792157</td>\n",
              "      <td>0.767647</td>\n",
              "      <td>0.673010</td>\n",
              "      <td>0.825990</td>\n",
              "      <td>0.790696</td>\n",
              "      <td>0.723990</td>\n",
              "      <td>0.836735</td>\n",
              "      <td>0.801441</td>\n",
              "      <td>0.738618</td>\n",
              "      <td>0.803402</td>\n",
              "      <td>0.768108</td>\n",
              "      <td>0.705784</td>\n",
              "      <td>0.829010</td>\n",
              "      <td>0.793716</td>\n",
              "      <td>0.728971</td>\n",
              "    </tr>\n",
              "  </tbody>\n",
              "</table>\n",
              "<p>5 rows × 30000 columns</p>\n",
              "</div>"
            ],
            "text/plain": [
              "      0         1         2      ...     29997     29998     29999\n",
              "0  0.945098  0.945098  0.952941  ...  0.779216  0.681176  0.430196\n",
              "0  0.903431  0.917647  0.933333  ...  0.845037  0.903860  0.884252\n",
              "0  0.050980  0.050980  0.050980  ...  0.184314  0.109804  0.084267\n",
              "0  0.255453  0.349020  0.368627  ...  0.337132  0.257230  0.198468\n",
              "0  0.993137  0.854912  0.933971  ...  0.829010  0.793716  0.728971\n",
              "\n",
              "[5 rows x 30000 columns]"
            ]
          },
          "metadata": {
            "tags": []
          },
          "execution_count": 9
        },
        {
          "output_type": "stream",
          "text": [
            "time: 191 ms (started: 2021-04-29 11:57:00 +00:00)\n"
          ],
          "name": "stdout"
        }
      ]
    },
    {
      "cell_type": "code",
      "metadata": {
        "id": "cHB_XWKIgy4k",
        "colab": {
          "base_uri": "https://localhost:8080/"
        },
        "outputId": "ee9118e0-a60c-4a02-edd8-92cd37ea0824"
      },
      "source": [
        "x=flat_data\n",
        "y=output"
      ],
      "execution_count": 10,
      "outputs": [
        {
          "output_type": "stream",
          "text": [
            "time: 1.31 ms (started: 2021-04-29 11:57:03 +00:00)\n"
          ],
          "name": "stdout"
        }
      ]
    },
    {
      "cell_type": "code",
      "metadata": {
        "colab": {
          "base_uri": "https://localhost:8080/"
        },
        "id": "t3l2LT7IhIT9",
        "outputId": "17fa5c38-2b36-40a9-92bb-7c23b8540385"
      },
      "source": [
        "import numpy as np\n",
        "np.unique(y,return_counts=True)"
      ],
      "execution_count": 11,
      "outputs": [
        {
          "output_type": "execute_result",
          "data": {
            "text/plain": [
              "(array([0, 1, 2]), array([60, 60, 60]))"
            ]
          },
          "metadata": {
            "tags": []
          },
          "execution_count": 11
        },
        {
          "output_type": "stream",
          "text": [
            "time: 3.59 ms (started: 2021-04-29 11:57:05 +00:00)\n"
          ],
          "name": "stdout"
        }
      ]
    },
    {
      "cell_type": "code",
      "metadata": {
        "colab": {
          "base_uri": "https://localhost:8080/",
          "height": 298
        },
        "id": "O9mpbjLbWv1E",
        "outputId": "08834701-94bd-4b2e-d816-de01f3e68c4c"
      },
      "source": [
        "unique, count = np.unique(output,return_counts=True)\n",
        "plt.bar(CATEGORIES,count)"
      ],
      "execution_count": 12,
      "outputs": [
        {
          "output_type": "execute_result",
          "data": {
            "text/plain": [
              "<BarContainer object of 3 artists>"
            ]
          },
          "metadata": {
            "tags": []
          },
          "execution_count": 12
        },
        {
          "output_type": "display_data",
          "data": {
            "image/png": "[encoded data removed]",
            "text/plain": [
              "<Figure size 432x288 with 1 Axes>"
            ]
          },
          "metadata": {
            "tags": [],
            "needs_background": "light"
          }
        },
        {
          "output_type": "stream",
          "text": [
            "time: 175 ms (started: 2021-04-29 11:57:07 +00:00)\n"
          ],
          "name": "stdout"
        }
      ]
    },
    {
      "cell_type": "code",
      "metadata": {
        "colab": {
          "base_uri": "https://localhost:8080/"
        },
        "id": "u124QIZXuV36",
        "outputId": "9f37903b-71cd-4e13-fffd-6a2c881d728c"
      },
      "source": [
        "import numpy as np\n",
        "print(np.unique(x,return_counts=True))"
      ],
      "execution_count": 13,
      "outputs": [
        {
          "output_type": "stream",
          "text": [
            "(array([0.00000000e+00, 7.91954477e-31, 1.58390895e-30, ...,\n",
            "       1.00000000e+00, 1.00000000e+00, 1.00000000e+00]), array([40701,     4,     3, ...,   404,   761, 42646]))\n",
            "time: 674 ms (started: 2021-04-29 11:57:08 +00:00)\n"
          ],
          "name": "stdout"
        }
      ]
    },
    {
      "cell_type": "code",
      "metadata": {
        "id": "LCrajosaZuH4",
        "colab": {
          "base_uri": "https://localhost:8080/"
        },
        "outputId": "c2b754fc-21e2-494f-f6b6-27ad4eec8827"
      },
      "source": [
        "#Splitting the data for Training and Testing\n",
        "#from sklearn.datasets import make_hastie_10_2\n",
        "#from sklearn.ensemble import GradientBoostingClassifier\n",
        "#\n",
        "#x_train, x_test = x[:5000], x[5000:]\n",
        "#y_train, y_test = y[:5000], y[5000:]\n",
        "#clf = GradientBoostingClassifier(n_estimators=655, learning_rate=1.0,loss = 'exponential',\n",
        "#      max_depth=1, random_state=42).fit(x_train, y_train)\n",
        "#x, y = make_hastie_10_2(random_state=10)\n",
        "#y_train, x_test = x[:2000], x[2000:]\n",
        "#x_train, y_test = y[:2000], y[2000:]"
      ],
      "execution_count": 14,
      "outputs": [
        {
          "output_type": "stream",
          "text": [
            "time: 2.1 ms (started: 2021-04-29 11:57:11 +00:00)\n"
          ],
          "name": "stdout"
        }
      ]
    },
    {
      "cell_type": "code",
      "metadata": {
        "id": "BAf9GMUcYuqN",
        "colab": {
          "base_uri": "https://localhost:8080/"
        },
        "outputId": "3b922924-19de-4fd8-f392-9926c457a5bd"
      },
      "source": [
        "#Splitting the data for Training and Testing\n",
        "from sklearn.model_selection import train_test_split\n",
        "from sklearn import svm\n",
        "from sklearn.model_selection import GridSearchCV\n",
        "x_train,x_test,y_train,y_test = train_test_split(x,y,test_size = 0.2, random_state=0,)\n",
        "param = {'C' : [10], 'gamma' :[0.0001],\n",
        "    'kernel':['rbf'],\n",
        "      }\n",
        "svc = svm.SVC(probability=True)\n",
        "grid = GridSearchCV(svc,param,cv= 7)\n",
        "grid.fit(x_train,y_train)"
      ],
      "execution_count": 15,
      "outputs": [
        {
          "output_type": "execute_result",
          "data": {
            "text/plain": [
              "GridSearchCV(cv=7, error_score=nan,\n",
              "             estimator=SVC(C=1.0, break_ties=False, cache_size=200,\n",
              "                           class_weight=None, coef0=0.0,\n",
              "                           decision_function_shape='ovr', degree=3,\n",
              "                           gamma='scale', kernel='rbf', max_iter=-1,\n",
              "                           probability=True, random_state=None, shrinking=True,\n",
              "                           tol=0.001, verbose=False),\n",
              "             iid='deprecated', n_jobs=None,\n",
              "             param_grid={'C': [10], 'gamma': [0.0001], 'kernel': ['rbf']},\n",
              "             pre_dispatch='2*n_jobs', refit=True, return_train_score=False,\n",
              "             scoring=None, verbose=0)"
            ]
          },
          "metadata": {
            "tags": []
          },
          "execution_count": 15
        },
        {
          "output_type": "stream",
          "text": [
            "time: 44.6 s (started: 2021-04-29 11:57:13 +00:00)\n"
          ],
          "name": "stdout"
        }
      ]
    },
    {
      "cell_type": "code",
      "metadata": {
        "colab": {
          "base_uri": "https://localhost:8080/"
        },
        "id": "Tw2tUm4PLym6",
        "outputId": "822864cf-7c67-4323-fb45-8e77307f8cd2"
      },
      "source": [
        "#Checking the accuracy of the model.\n",
        "accuracy = grid.score(x_test,y_test)\n",
        "print(\"Accuracy: %.2f%%\" % (accuracy * 100.0))"
      ],
      "execution_count": 16,
      "outputs": [
        {
          "output_type": "stream",
          "text": [
            "Accuracy: 75.00%\n",
            "time: 270 ms (started: 2021-04-29 11:58:04 +00:00)\n"
          ],
          "name": "stdout"
        }
      ]
    },
    {
      "cell_type": "code",
      "metadata": {
        "colab": {
          "base_uri": "https://localhost:8080/"
        },
        "id": "1cCEtHcghrsF",
        "outputId": "a5f4b2f6-8eb8-47c4-ec2d-69ee9b34ab4b"
      },
      "source": [
        "y_pred = model.predict(x_test)"
      ],
      "execution_count": 31,
      "outputs": [
        {
          "output_type": "stream",
          "text": [
            "time: 259 ms (started: 2021-04-29 12:07:24 +00:00)\n"
          ],
          "name": "stdout"
        }
      ]
    },
    {
      "cell_type": "code",
      "metadata": {
        "colab": {
          "base_uri": "https://localhost:8080/"
        },
        "id": "NSHalBfIf8V0",
        "outputId": "cd418b5c-2849-4cf6-cbe6-e1d8a98d4821"
      },
      "source": [
        "from sklearn.metrics import confusion_matrix,classification_report"
      ],
      "execution_count": 32,
      "outputs": [
        {
          "output_type": "stream",
          "text": [
            "time: 1.04 ms (started: 2021-04-29 12:07:27 +00:00)\n"
          ],
          "name": "stdout"
        }
      ]
    },
    {
      "cell_type": "code",
      "metadata": {
        "colab": {
          "base_uri": "https://localhost:8080/"
        },
        "id": "A7EFITtQgMkf",
        "outputId": "fd5791d2-d297-41a4-a6ac-ff494fb10221"
      },
      "source": [
        "conf_mat = confusion_matrix(y_pred,y_test)\n",
        "conf_mat"
      ],
      "execution_count": 33,
      "outputs": [
        {
          "output_type": "execute_result",
          "data": {
            "text/plain": [
              "array([[ 8,  0,  3],\n",
              "       [ 0, 11,  4],\n",
              "       [ 2,  0,  8]])"
            ]
          },
          "metadata": {
            "tags": []
          },
          "execution_count": 33
        },
        {
          "output_type": "stream",
          "text": [
            "time: 13.8 ms (started: 2021-04-29 12:07:52 +00:00)\n"
          ],
          "name": "stdout"
        }
      ]
    },
    {
      "cell_type": "code",
      "metadata": {
        "colab": {
          "base_uri": "https://localhost:8080/"
        },
        "id": "Cs-Dv6YBh118",
        "outputId": "120e8118-83f9-46a6-f9f6-b5d6df238d1b"
      },
      "source": [
        "print(classification_report(y_pred,y_test))"
      ],
      "execution_count": 34,
      "outputs": [
        {
          "output_type": "stream",
          "text": [
            "              precision    recall  f1-score   support\n",
            "\n",
            "           0       0.80      0.73      0.76        11\n",
            "           1       1.00      0.73      0.85        15\n",
            "           2       0.53      0.80      0.64        10\n",
            "\n",
            "    accuracy                           0.75        36\n",
            "   macro avg       0.78      0.75      0.75        36\n",
            "weighted avg       0.81      0.75      0.76        36\n",
            "\n",
            "time: 13.5 ms (started: 2021-04-29 12:08:28 +00:00)\n"
          ],
          "name": "stdout"
        }
      ]
    },
    {
      "cell_type": "code",
      "metadata": {
        "id": "BZfaiidcOOZ7",
        "colab": {
          "base_uri": "https://localhost:8080/"
        },
        "outputId": "b2a38cc6-1386-49ef-ccab-c05dd344b643"
      },
      "source": [
        "print(x_train.shape, x_test.shape, y_train.shape, y_test.shape)"
      ],
      "execution_count": 35,
      "outputs": [
        {
          "output_type": "stream",
          "text": [
            "(144, 30000) (36, 30000) (144,) (36,)\n",
            "time: 3.25 ms (started: 2021-04-29 12:08:44 +00:00)\n"
          ],
          "name": "stdout"
        }
      ]
    },
    {
      "cell_type": "code",
      "metadata": {
        "colab": {
          "base_uri": "https://localhost:8080/"
        },
        "id": "TaQn7A9uSlGm",
        "outputId": "0c572d55-553e-423c-ce28-a03fce09ef6c"
      },
      "source": [
        "x.shape"
      ],
      "execution_count": 36,
      "outputs": [
        {
          "output_type": "execute_result",
          "data": {
            "text/plain": [
              "(180, 30000)"
            ]
          },
          "metadata": {
            "tags": []
          },
          "execution_count": 36
        },
        {
          "output_type": "stream",
          "text": [
            "time: 6.42 ms (started: 2021-04-29 12:08:45 +00:00)\n"
          ],
          "name": "stdout"
        }
      ]
    },
    {
      "cell_type": "code",
      "metadata": {
        "colab": {
          "base_uri": "https://localhost:8080/"
        },
        "id": "_QZrOJbTSoUk",
        "outputId": "91aeed28-57e7-45ce-8a61-e1801b6cc677"
      },
      "source": [
        "y.shape"
      ],
      "execution_count": 37,
      "outputs": [
        {
          "output_type": "execute_result",
          "data": {
            "text/plain": [
              "(180,)"
            ]
          },
          "metadata": {
            "tags": []
          },
          "execution_count": 37
        },
        {
          "output_type": "stream",
          "text": [
            "time: 3.89 ms (started: 2021-04-29 12:08:46 +00:00)\n"
          ],
          "name": "stdout"
        }
      ]
    },
    {
      "cell_type": "code",
      "metadata": {
        "colab": {
          "base_uri": "https://localhost:8080/"
        },
        "id": "KNzEELT8rJ0F",
        "outputId": "ce5adda9-2886-43bd-88ca-de19969843f6"
      },
      "source": [
        "import numpy as np\n",
        "np.unique(y_test,return_counts=True)"
      ],
      "execution_count": 38,
      "outputs": [
        {
          "output_type": "execute_result",
          "data": {
            "text/plain": [
              "(array([0, 1, 2]), array([10, 11, 15]))"
            ]
          },
          "metadata": {
            "tags": []
          },
          "execution_count": 38
        },
        {
          "output_type": "stream",
          "text": [
            "time: 9.93 ms (started: 2021-04-29 12:08:47 +00:00)\n"
          ],
          "name": "stdout"
        }
      ]
    },
    {
      "cell_type": "code",
      "metadata": {
        "id": "Dus7rSUmzDaB",
        "colab": {
          "base_uri": "https://localhost:8080/"
        },
        "outputId": "e1bf1e00-0c45-4264-80e5-0fc46ff96dce"
      },
      "source": [
        "y_train"
      ],
      "execution_count": 39,
      "outputs": [
        {
          "output_type": "execute_result",
          "data": {
            "text/plain": [
              "array([0, 1, 0, 2, 2, 0, 0, 1, 0, 1, 0, 2, 1, 2, 0, 0, 2, 2, 0, 1, 0, 1,\n",
              "       1, 2, 1, 1, 1, 0, 1, 2, 2, 2, 1, 1, 0, 0, 1, 1, 0, 0, 1, 1, 2, 2,\n",
              "       1, 2, 1, 2, 2, 0, 2, 1, 1, 2, 2, 1, 0, 0, 1, 0, 2, 0, 2, 0, 0, 1,\n",
              "       0, 1, 1, 0, 2, 1, 0, 1, 1, 1, 2, 0, 2, 2, 0, 0, 1, 2, 0, 0, 1, 1,\n",
              "       0, 0, 0, 2, 1, 0, 2, 2, 0, 1, 2, 2, 0, 0, 2, 0, 2, 2, 0, 0, 1, 0,\n",
              "       2, 2, 2, 0, 2, 2, 2, 0, 1, 1, 1, 1, 2, 2, 1, 1, 0, 1, 2, 2, 0, 0,\n",
              "       2, 1, 1, 1, 0, 0, 0, 1, 1, 1, 0, 2])"
            ]
          },
          "metadata": {
            "tags": []
          },
          "execution_count": 39
        },
        {
          "output_type": "stream",
          "text": [
            "time: 4.68 ms (started: 2021-04-29 12:08:49 +00:00)\n"
          ],
          "name": "stdout"
        }
      ]
    },
    {
      "cell_type": "code",
      "metadata": {
        "id": "1zbEocbNvuBj",
        "colab": {
          "base_uri": "https://localhost:8080/"
        },
        "outputId": "e38cce3f-33bb-449d-afdb-d677ee382e42"
      },
      "source": [
        "#Saving model using Pickle library\n",
        "import pickle\n",
        "pickle.dump(grid,open('img_model.p','wb'))"
      ],
      "execution_count": 40,
      "outputs": [
        {
          "output_type": "stream",
          "text": [
            "time: 60.4 ms (started: 2021-04-29 12:08:51 +00:00)\n"
          ],
          "name": "stdout"
        }
      ]
    },
    {
      "cell_type": "code",
      "metadata": {
        "id": "yBcwQ6eYwBuy",
        "colab": {
          "base_uri": "https://localhost:8080/"
        },
        "outputId": "e4c9cb22-739f-4728-b5bc-3e4e03a362fb"
      },
      "source": [
        "model = pickle.load(open('img_model.p','rb'))"
      ],
      "execution_count": 41,
      "outputs": [
        {
          "output_type": "stream",
          "text": [
            "time: 31.4 ms (started: 2021-04-29 12:08:53 +00:00)\n"
          ],
          "name": "stdout"
        }
      ]
    },
    {
      "cell_type": "code",
      "metadata": {
        "id": "kP4RUs8nwgoL",
        "colab": {
          "base_uri": "https://localhost:8080/",
          "height": 355
        },
        "outputId": "39bf56fb-b392-407d-f1e9-95034bc60b50"
      },
      "source": [
        "#Testing\n",
        "import numpy as np \n",
        "flat_data = []\n",
        "url = input('Enter the image URL')\n",
        "img = imread(url)\n",
        "resized_img = resize(img,(100,100,3))\n",
        "flat_data.append(resized_img.flatten())\n",
        "flat_data = np.array(flat_data)\n",
        "print(img.shape)\n",
        "plt.imshow(resized_img)\n",
        "y_out = model.predict (flat_data)\n",
        "y_out = CATEGORIES[y_out[0]]\n",
        "print(f'Prediction:{y_out}')"
      ],
      "execution_count": 42,
      "outputs": [
        {
          "output_type": "stream",
          "text": [
            "Enter the image URLhttps://media1.s-nbcnews.com/i/newscms/2019_21/2870431/190524-classic-american-cheeseburger-ew-207p_d9270c5c545b30ea094084c7f2342eb4.jpg\n",
            "(1544, 2500, 3)\n",
            "Prediction:burger\n"
          ],
          "name": "stdout"
        },
        {
          "output_type": "display_data",
          "data": {
            "image/png": "[encoded data removed]",
            "text/plain": [
              "<Figure size 432x288 with 1 Axes>"
            ]
          },
          "metadata": {
            "tags": [],
            "needs_background": "light"
          }
        },
        {
          "output_type": "stream",
          "text": [
            "time: 11.2 s (started: 2021-04-29 12:08:55 +00:00)\n"
          ],
          "name": "stdout"
        }
      ]
    },
    {
      "cell_type": "code",
      "metadata": {
        "id": "tWrGVBElyMqe",
        "colab": {
          "base_uri": "https://localhost:8080/"
        },
        "outputId": "904c388a-be70-4ac1-c759-059e93490048"
      },
      "source": [
        "!pip install streamlit --quiet\n",
        "!pip install pyngrok==4.1.1 --quiet\n",
        "from pyngrok import ngrok"
      ],
      "execution_count": 43,
      "outputs": [
        {
          "output_type": "stream",
          "text": [
            "\u001b[K     |████████████████████████████████| 8.2MB 6.3MB/s \n",
            "\u001b[K     |████████████████████████████████| 163kB 48.7MB/s \n",
            "\u001b[K     |████████████████████████████████| 4.2MB 37.6MB/s \n",
            "\u001b[K     |████████████████████████████████| 81kB 7.8MB/s \n",
            "\u001b[K     |████████████████████████████████| 112kB 58.7MB/s \n",
            "\u001b[K     |████████████████████████████████| 71kB 7.2MB/s \n",
            "\u001b[K     |████████████████████████████████| 122kB 55.8MB/s \n",
            "\u001b[?25h  Building wheel for blinker (setup.py) ... \u001b[?25l\u001b[?25hdone\n",
            "\u001b[31mERROR: google-colab 1.0.0 has requirement ipykernel~=4.10, but you'll have ipykernel 5.5.3 which is incompatible.\u001b[0m\n",
            "  Building wheel for pyngrok (setup.py) ... \u001b[?25l\u001b[?25hdone\n",
            "time: 18.3 s (started: 2021-04-29 12:09:11 +00:00)\n"
          ],
          "name": "stdout"
        }
      ]
    },
    {
      "cell_type": "code",
      "metadata": {
        "id": "mHed1XJSsfS_",
        "colab": {
          "base_uri": "https://localhost:8080/"
        },
        "outputId": "4d8a2a60-0e0f-4e90-c238-55615c082d41"
      },
      "source": [
        "#Deployment using Streamlit and pyngrok.\n",
        "%%writefile app.py\n",
        "import numpy as np\n",
        "import os\n",
        "import matplotlib.pyplot as plt\n",
        "import numpy as np\n",
        "from skimage.io import imread #To read the image\n",
        "from skimage.transform import resize #Resizing the image\n",
        "import pickle \n",
        "from PIL import Image\n",
        "from pyngrok import ngrok\n",
        "import streamlit as st\n",
        "#st.set_option('deprecation.showFileUploaderEncoding', False)\n",
        "st.title('Predict the image')\n",
        "st.text('Upload your image')\n",
        "\n",
        "model = pickle.load(open('img_model.p','rb'))\n",
        "\n",
        "uploaded_file = st.file_uploader(\"Choose an image\",type = \"jpg\")\n",
        "if uploaded_file is not None:\n",
        "  img = Image.open(uploaded_file)\n",
        "  st.image(img,caption = \"Uploaded image\")\n",
        "  if st.button(\"Predict\"):\n",
        "    st.write('Prediction...')\n",
        "    CATEGORIES = ['burger','pizza','tasty pasta']\n",
        "    flat_data = []\n",
        "    img = np.array(img)\n",
        "    resized_img = resize(img,(100,100,3))\n",
        "    flat_data.append(resized_img.flatten())\n",
        "    flat_data = np.array(flat_data)\n",
        "    print(img.shape)\n",
        "    y_out = model.predict(flat_data)\n",
        "    y_out = CATEGORIES[y_out[0]]\n",
        "    st.title(f'The image is a :{y_out}')\n",
        "    q = model.predict_proba(flat_data)\n",
        "    for index, item in enumerate(CATEGORIES):\n",
        "      st.write(f'{item} : {q[0][index]*100}%')"
      ],
      "execution_count": 44,
      "outputs": [
        {
          "output_type": "stream",
          "text": [
            "Writing app.py\n",
            "time: 3.58 ms (started: 2021-04-29 12:09:36 +00:00)\n"
          ],
          "name": "stdout"
        }
      ]
    },
    {
      "cell_type": "code",
      "metadata": {
        "id": "FepIGio23zCA",
        "colab": {
          "base_uri": "https://localhost:8080/",
          "height": 52
        },
        "outputId": "b2e273a2-66e2-4c56-9ab6-e37a78b011c0"
      },
      "source": [
        "#Running the web app via ngrok\n",
        "from pyngrok import ngrok\n",
        "!nohup streamlit run app.py &\n",
        "url= ngrok.connect(port='8501')\n",
        "url"
      ],
      "execution_count": 45,
      "outputs": [
        {
          "output_type": "stream",
          "text": [
            "nohup: appending output to 'nohup.out'\n"
          ],
          "name": "stdout"
        },
        {
          "output_type": "execute_result",
          "data": {
            "application/vnd.google.colaboratory.intrinsic+json": {
              "type": "string"
            },
            "text/plain": [
              "'http://351a7e24854d.ngrok.io'"
            ]
          },
          "metadata": {
            "tags": []
          },
          "execution_count": 45
        },
        {
          "output_type": "stream",
          "text": [
            "time: 1.56 s (started: 2021-04-29 12:09:41 +00:00)\n"
          ],
          "name": "stdout"
        }
      ]
    },
    {
      "cell_type": "code",
      "metadata": {
        "id": "ceVkti7oYnxI",
        "colab": {
          "base_uri": "https://localhost:8080/"
        },
        "outputId": "f449efa6-1f54-426e-915d-8d201d622437"
      },
      "source": [
        "#Stopping the connection.\n",
        "ngrok.kill()"
      ],
      "execution_count": null,
      "outputs": [
        {
          "output_type": "stream",
          "text": [
            "time: 2.54 ms (started: 2021-04-29 04:32:39 +00:00)\n"
          ],
          "name": "stdout"
        }
      ]
    }
  ]
}