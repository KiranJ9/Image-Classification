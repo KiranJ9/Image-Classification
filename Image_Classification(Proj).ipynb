{
  "nbformat": 4,
  "nbformat_minor": 0,
  "metadata": {
    "colab": {
      "name": "Image Classification(Proj).ipynb",
      "provenance": [],
      "collapsed_sections": [],
      "toc_visible": true,
      "authorship_tag": "ABX9TyMcGxZTRrjWdhAuz8rgK+tA",
      "include_colab_link": true
    },
    "kernelspec": {
      "name": "python3",
      "display_name": "Python 3"
    },
    "language_info": {
      "name": "python"
    }
  },
  "cells": [
    {
      "cell_type": "markdown",
      "metadata": {
        "id": "view-in-github",
        "colab_type": "text"
      },
      "source": [
        "<a href=\"https://colab.research.google.com/github/KiranJ9/Image-Classification/blob/main/Image_Classification(Proj).ipynb\" target=\"_parent\"><img src=\"https://colab.research.google.com/assets/colab-badge.svg\" alt=\"Open In Colab\"/></a>"
      ]
    },
    {
      "cell_type": "code",
      "metadata": {
        "id": "HMTqMOUAYCoi"
      },
      "source": [
        "#ImageData\n",
        "!pip install bing_image_downloader"
      ],
      "execution_count": null,
      "outputs": []
    },
    {
      "cell_type": "code",
      "metadata": {
        "id": "TdhS8hVVYCYc"
      },
      "source": [
        "#Check execution time\n",
        "!pip install ipython-autotime\n",
        "%load_ext autotime"
      ],
      "execution_count": null,
      "outputs": []
    },
    {
      "cell_type": "code",
      "metadata": {
        "id": "hBD1lmLBzpFc"
      },
      "source": [
        "from bing_image_downloader import downloader\n",
        "downloader.download(\"burgers\",limit = 40,output_dir = 'ImageData')"
      ],
      "execution_count": null,
      "outputs": []
    },
    {
      "cell_type": "code",
      "metadata": {
        "id": "wdNetzE8z6G3"
      },
      "source": [
        "downloader.download(\"pizza\",limit = 40,output_dir = 'ImageData')"
      ],
      "execution_count": null,
      "outputs": []
    },
    {
      "cell_type": "code",
      "metadata": {
        "id": "jkwZ7YlQ0Pyk"
      },
      "source": [
        "downloader.download(\"tasty pastas\",limit = 40,output_dir = 'ImageData')"
      ],
      "execution_count": null,
      "outputs": []
    },
    {
      "cell_type": "code",
      "metadata": {
        "id": "ww8CJQjCw51G"
      },
      "source": [
        "#Preprocessing the ImageData\n",
        "import os\n",
        "import matplotlib.pyplot as plt\n",
        "import numpy as np\n",
        "from skimage.io import imread #To read the image\n",
        "from skimage.transform import resize #Resizing the image\n",
        "\n",
        "output = []\n",
        "images = []\n",
        "flat_data = []\n",
        "\n",
        "DATADIR = '/content/ImageData'\n",
        "CATEGORIES = ['burgers','pizza','tasty pastas']\n",
        "for category in CATEGORIES:\n",
        "  num_class = CATEGORIES.index(category)\n",
        "  print(num_class)\n",
        "  path = os.path.join(DATADIR,category)\n",
        "  print(path)\n",
        "  for img in os.listdir(path):\n",
        "    img_read = imread(os.path.join(path,img))\n",
        "    print(img_read)\n",
        "    resized_img = resize(img_read,(100,100,3))\n",
        "    flat_data.append(resized_img.flatten())\n",
        "    images.append(resized_img)\n",
        "    output.append(num_class)\n",
        "flat_data = np.array(flat_data)\n",
        "output = np.array(output)\n",
        "images = np.array(images)"
      ],
      "execution_count": null,
      "outputs": []
    },
    {
      "cell_type": "code",
      "metadata": {
        "colab": {
          "base_uri": "https://localhost:8080/"
        },
        "id": "pBqrkB7E3imA",
        "outputId": "f94bc7be-6a99-41f3-e5fa-75e9b65ac901"
      },
      "source": [
        "flat_data.ndim"
      ],
      "execution_count": 221,
      "outputs": [
        {
          "output_type": "execute_result",
          "data": {
            "text/plain": [
              "2"
            ]
          },
          "metadata": {
            "tags": []
          },
          "execution_count": 221
        },
        {
          "output_type": "stream",
          "text": [
            "time: 3.36 ms (started: 2021-04-16 14:09:27 +00:00)\n"
          ],
          "name": "stdout"
        }
      ]
    },
    {
      "cell_type": "code",
      "metadata": {
        "colab": {
          "base_uri": "https://localhost:8080/"
        },
        "id": "fPyfLEbrUJ_4",
        "outputId": "6989dd91-9989-4726-c24b-9f3552c8bace"
      },
      "source": [
        "print(flat_data)"
      ],
      "execution_count": 222,
      "outputs": [
        {
          "output_type": "stream",
          "text": [
            "[[0.2190098  0.19803922 0.12745098 ... 0.08627451 0.08627451 0.07843137]\n",
            " [0.0712549  0.06341176 0.1172549  ... 0.16615686 0.20392157 0.39019608]\n",
            " [0.38994118 0.62327451 0.71878431 ... 0.42448039 0.38918627 0.22953922]\n",
            " ...\n",
            " [0.99607843 0.99607843 0.99607843 ... 0.99607843 0.99607843 0.99607843]\n",
            " [0.96078431 0.91078431 0.76862745 ... 0.87647059 0.88039216 0.88823529]\n",
            " [0.00392157 0.01960784 0.01960784 ... 0.49215686 0.48039216 0.5254902 ]]\n",
            "time: 3.77 ms (started: 2021-04-16 14:10:45 +00:00)\n"
          ],
          "name": "stdout"
        }
      ]
    },
    {
      "cell_type": "code",
      "metadata": {
        "colab": {
          "base_uri": "https://localhost:8080/"
        },
        "id": "Frg875s6VQbJ",
        "outputId": "69e78a6c-894c-4ea9-f2ed-284d7558bc20"
      },
      "source": [
        "print(output)"
      ],
      "execution_count": 232,
      "outputs": [
        {
          "output_type": "stream",
          "text": [
            "[0 0 0 0 0 0 0 0 0 0 0 0 0 0 0 0 0 0 0 0 0 0 0 0 0 0 0 0 0 0 0 0 0 0 0 0 0\n",
            " 0 0 0 1 1 1 1 1 1 1 1 1 1 1 1 1 1 1 1 1 1 1 1 1 1 1 1 1 1 1 1 1 1 1 1 1 1\n",
            " 1 1 1 1 1 1 2 2 2 2 2 2 2 2 2 2 2 2 2 2 2 2 2 2 2 2 2 2 2 2 2 2 2 2 2 2 2\n",
            " 2 2 2 2 2 2 2 2 2]\n",
            "time: 3.52 ms (started: 2021-04-16 14:55:06 +00:00)\n"
          ],
          "name": "stdout"
        }
      ]
    },
    {
      "cell_type": "code",
      "metadata": {
        "colab": {
          "base_uri": "https://localhost:8080/",
          "height": 298
        },
        "id": "O9mpbjLbWv1E",
        "outputId": "b20e5df2-f54b-4149-b735-cc40f2f455f0"
      },
      "source": [
        "unique, count = np.unique(output,return_counts=True)\n",
        "plt.bar(CATEGORIES,count)"
      ],
      "execution_count": 224,
      "outputs": [
        {
          "output_type": "execute_result",
          "data": {
            "text/plain": [
              "<BarContainer object of 3 artists>"
            ]
          },
          "metadata": {
            "tags": []
          },
          "execution_count": 224
        },
        {
          "output_type": "display_data",
          "data": {
            "image/png": "[encoded data removed]",
            "text/plain": [
              "<Figure size 432x288 with 1 Axes>"
            ]
          },
          "metadata": {
            "tags": [],
            "needs_background": "light"
          }
        },
        {
          "output_type": "stream",
          "text": [
            "time: 147 ms (started: 2021-04-16 14:10:54 +00:00)\n"
          ],
          "name": "stdout"
        }
      ]
    },
    {
      "cell_type": "code",
      "metadata": {
        "colab": {
          "base_uri": "https://localhost:8080/"
        },
        "id": "cHB_XWKIgy4k",
        "outputId": "f7e97027-5486-4d0d-eca6-e161b609fe99"
      },
      "source": [
        "x=flat_data\n",
        "y=output"
      ],
      "execution_count": 225,
      "outputs": [
        {
          "output_type": "stream",
          "text": [
            "time: 1.25 ms (started: 2021-04-16 14:10:59 +00:00)\n"
          ],
          "name": "stdout"
        }
      ]
    },
    {
      "cell_type": "code",
      "metadata": {
        "colab": {
          "base_uri": "https://localhost:8080/"
        },
        "id": "t3l2LT7IhIT9",
        "outputId": "bf708778-f563-4dc9-f75a-e1cfe8375cf1"
      },
      "source": [
        "import numpy as np\n",
        "np.unique(y,return_counts=True)"
      ],
      "execution_count": 226,
      "outputs": [
        {
          "output_type": "execute_result",
          "data": {
            "text/plain": [
              "(array([0, 1, 2]), array([40, 40, 40]))"
            ]
          },
          "metadata": {
            "tags": []
          },
          "execution_count": 226
        },
        {
          "output_type": "stream",
          "text": [
            "time: 6.51 ms (started: 2021-04-16 14:11:01 +00:00)\n"
          ],
          "name": "stdout"
        }
      ]
    },
    {
      "cell_type": "code",
      "metadata": {
        "colab": {
          "base_uri": "https://localhost:8080/"
        },
        "id": "sEWcMkKjcvkl",
        "outputId": "c8caa23d-e922-44ce-a31d-56c17545dee8"
      },
      "source": [
        "!pip install xgboost"
      ],
      "execution_count": 279,
      "outputs": [
        {
          "output_type": "stream",
          "text": [
            "Requirement already satisfied: xgboost in /usr/local/lib/python3.7/dist-packages (0.90)\n",
            "Requirement already satisfied: numpy in /usr/local/lib/python3.7/dist-packages (from xgboost) (1.19.5)\n",
            "Requirement already satisfied: scipy in /usr/local/lib/python3.7/dist-packages (from xgboost) (1.4.1)\n",
            "time: 2.54 s (started: 2021-04-16 16:10:52 +00:00)\n"
          ],
          "name": "stdout"
        }
      ]
    },
    {
      "cell_type": "code",
      "metadata": {
        "id": "oqjyLmVWYqKm",
        "colab": {
          "base_uri": "https://localhost:8080/"
        },
        "outputId": "96c58c08-762d-41a8-f742-101f70d326f5"
      },
      "source": [
        "#Splitting the data for Training and Testing\n",
        "from xgboost import XGBClassifier\n",
        "from sklearn.model_selection import train_test_split\n",
        "from sklearn.metrics import accuracy_score\n",
        "x_train, x_test, y_train, y_test = train_test_split(x,y,test_size=0.2,random_state=400)\n",
        "model = XGBClassifier()\n",
        "model.fit(x_train, y_train)"
      ],
      "execution_count": 569,
      "outputs": [
        {
          "output_type": "execute_result",
          "data": {
            "text/plain": [
              "XGBClassifier(base_score=0.5, booster='gbtree', colsample_bylevel=1,\n",
              "              colsample_bynode=1, colsample_bytree=1, gamma=0,\n",
              "              learning_rate=0.1, max_delta_step=0, max_depth=3,\n",
              "              min_child_weight=1, missing=None, n_estimators=100, n_jobs=1,\n",
              "              nthread=None, objective='multi:softprob', random_state=0,\n",
              "              reg_alpha=0, reg_lambda=1, scale_pos_weight=1, seed=None,\n",
              "              silent=None, subsample=1, verbosity=1)"
            ]
          },
          "metadata": {
            "tags": []
          },
          "execution_count": 569
        },
        {
          "output_type": "stream",
          "text": [
            "time: 43.6 s (started: 2021-04-16 17:30:58 +00:00)\n"
          ],
          "name": "stdout"
        }
      ]
    },
    {
      "cell_type": "code",
      "metadata": {
        "colab": {
          "base_uri": "https://localhost:8080/"
        },
        "id": "FZ5y2EsjODPe",
        "outputId": "3ecb981c-25d0-43cc-a44c-820573d66f05"
      },
      "source": [
        "y_pred = model.predict(x_test)\n",
        "y_pred"
      ],
      "execution_count": 570,
      "outputs": [
        {
          "output_type": "execute_result",
          "data": {
            "text/plain": [
              "array([0, 2, 2, 1, 1, 0, 2, 2, 2, 0, 0, 2, 1, 2, 2, 1, 0, 0, 2, 2, 2, 2,\n",
              "       1, 2])"
            ]
          },
          "metadata": {
            "tags": []
          },
          "execution_count": 570
        },
        {
          "output_type": "stream",
          "text": [
            "time: 31.8 ms (started: 2021-04-16 17:32:20 +00:00)\n"
          ],
          "name": "stdout"
        }
      ]
    },
    {
      "cell_type": "code",
      "metadata": {
        "id": "Dus7rSUmzDaB",
        "colab": {
          "base_uri": "https://localhost:8080/"
        },
        "outputId": "3e7a31d9-9351-4a21-d2dc-fa382c57249a"
      },
      "source": [
        "y_test"
      ],
      "execution_count": 571,
      "outputs": [
        {
          "output_type": "execute_result",
          "data": {
            "text/plain": [
              "array([0, 2, 2, 0, 1, 1, 2, 2, 2, 0, 1, 2, 1, 2, 2, 0, 0, 1, 2, 1, 2, 2,\n",
              "       1, 2])"
            ]
          },
          "metadata": {
            "tags": []
          },
          "execution_count": 571
        },
        {
          "output_type": "stream",
          "text": [
            "time: 3.82 ms (started: 2021-04-16 17:32:22 +00:00)\n"
          ],
          "name": "stdout"
        }
      ]
    },
    {
      "cell_type": "code",
      "metadata": {
        "colab": {
          "base_uri": "https://localhost:8080/"
        },
        "id": "BZfaiidcOOZ7",
        "outputId": "69d1d6ef-df23-448f-9e15-567768ed5f46"
      },
      "source": [
        "from sklearn.metrics import accuracy_score,confusion_matrix"
      ],
      "execution_count": 572,
      "outputs": [
        {
          "output_type": "stream",
          "text": [
            "time: 1.28 ms (started: 2021-04-16 17:32:23 +00:00)\n"
          ],
          "name": "stdout"
        }
      ]
    },
    {
      "cell_type": "code",
      "metadata": {
        "colab": {
          "base_uri": "https://localhost:8080/"
        },
        "id": "p-tirtWcOgr1",
        "outputId": "d19ead63-7fa8-47cc-a982-ceb649bbbd31"
      },
      "source": [
        "accuracy_score(y_pred,y_test)"
      ],
      "execution_count": 573,
      "outputs": [
        {
          "output_type": "execute_result",
          "data": {
            "text/plain": [
              "0.75"
            ]
          },
          "metadata": {
            "tags": []
          },
          "execution_count": 573
        },
        {
          "output_type": "stream",
          "text": [
            "time: 7.97 ms (started: 2021-04-16 17:32:25 +00:00)\n"
          ],
          "name": "stdout"
        }
      ]
    },
    {
      "cell_type": "code",
      "metadata": {
        "colab": {
          "base_uri": "https://localhost:8080/"
        },
        "id": "xT7tq8l_V7yv",
        "outputId": "fac806b0-855b-4021-886e-09ed45f5ae71"
      },
      "source": [
        "accuracy = accuracy_score(y_test, predictions)\n",
        "print(\"Accuracy: %.2f%%\" % (accuracy * 100.0))"
      ],
      "execution_count": 576,
      "outputs": [
        {
          "output_type": "stream",
          "text": [
            "Accuracy: 75.00%\n",
            "time: 4.43 ms (started: 2021-04-16 17:32:44 +00:00)\n"
          ],
          "name": "stdout"
        }
      ]
    },
    {
      "cell_type": "code",
      "metadata": {
        "colab": {
          "base_uri": "https://localhost:8080/"
        },
        "id": "ti-8R8R9eU5X",
        "outputId": "815525b0-8ff4-470f-90cc-39d22f5c7a82"
      },
      "source": [
        "y_pred = model.predict(x_test)\n",
        "predictions = [round(value) for value in y_pred]"
      ],
      "execution_count": 575,
      "outputs": [
        {
          "output_type": "stream",
          "text": [
            "time: 29.6 ms (started: 2021-04-16 17:32:42 +00:00)\n"
          ],
          "name": "stdout"
        }
      ]
    },
    {
      "cell_type": "code",
      "metadata": {
        "colab": {
          "base_uri": "https://localhost:8080/"
        },
        "id": "5fcgOmnKeQIK",
        "outputId": "99343fe2-57a5-4945-cfbc-9a437fa9a3ee"
      },
      "source": [
        "confusion_matrix(y_pred,y_test)"
      ],
      "execution_count": 577,
      "outputs": [
        {
          "output_type": "execute_result",
          "data": {
            "text/plain": [
              "array([[ 3,  3,  0],\n",
              "       [ 2,  3,  0],\n",
              "       [ 0,  1, 12]])"
            ]
          },
          "metadata": {
            "tags": []
          },
          "execution_count": 577
        },
        {
          "output_type": "stream",
          "text": [
            "time: 5.4 ms (started: 2021-04-16 17:33:43 +00:00)\n"
          ],
          "name": "stdout"
        }
      ]
    },
    {
      "cell_type": "code",
      "metadata": {
        "colab": {
          "base_uri": "https://localhost:8080/"
        },
        "id": "1zbEocbNvuBj",
        "outputId": "0b196c5d-8239-4224-aa21-b6be4c038b14"
      },
      "source": [
        "#Saving model using Pickle library\n",
        "import pickle\n",
        "pickle.dump(model,open('img_model.p','wb'))"
      ],
      "execution_count": 579,
      "outputs": [
        {
          "output_type": "stream",
          "text": [
            "time: 12.5 ms (started: 2021-04-16 17:36:00 +00:00)\n"
          ],
          "name": "stdout"
        }
      ]
    },
    {
      "cell_type": "code",
      "metadata": {
        "colab": {
          "base_uri": "https://localhost:8080/"
        },
        "id": "yBcwQ6eYwBuy",
        "outputId": "260e6245-d539-47c9-c93d-a9bc3d8384bb"
      },
      "source": [
        "model = pickle.load(open('img_model.p','rb'))"
      ],
      "execution_count": 581,
      "outputs": [
        {
          "output_type": "stream",
          "text": [
            "time: 7.22 ms (started: 2021-04-16 17:37:21 +00:00)\n"
          ],
          "name": "stdout"
        }
      ]
    },
    {
      "cell_type": "code",
      "metadata": {
        "colab": {
          "base_uri": "https://localhost:8080/",
          "height": 335
        },
        "id": "kP4RUs8nwgoL",
        "outputId": "af09d815-50d5-493b-c36a-540774234f94"
      },
      "source": [
        "#Testing \n",
        "flat_data = []\n",
        "url = input('Enter the image URL')\n",
        "img = imread(url)\n",
        "resized_img = resize(img,(100,100,3))\n",
        "flat_data.append(resized_img.flatten())\n",
        "flat_data = np.array(flat_data)\n",
        "print(img.shape)\n",
        "plt.imshow(resized_img)\n",
        "y_out = model.predict(flat_data)\n",
        "y_out = CATEGORIES[y_out[0]]\n",
        "print(f'Prediction:{y_out}')"
      ],
      "execution_count": 591,
      "outputs": [
        {
          "output_type": "stream",
          "text": [
            "Enter the image URLhttps://api.pizzahut.io/v1/content/en-in/in-1/images/pizza/tandoori-paneer.f2b53eed52aaeedf5f698407729c9baa.1.jpg\n",
            "(528, 768, 3)\n",
            "Prediction:tasty pastas\n"
          ],
          "name": "stdout"
        },
        {
          "output_type": "display_data",
          "data": {
            "image/png": "[encoded data removed]",
            "text/plain": [
              "<Figure size 432x288 with 1 Axes>"
            ]
          },
          "metadata": {
            "tags": [],
            "needs_background": "light"
          }
        },
        {
          "output_type": "stream",
          "text": [
            "time: 4.29 s (started: 2021-04-16 17:52:04 +00:00)\n"
          ],
          "name": "stdout"
        }
      ]
    },
    {
      "cell_type": "code",
      "metadata": {
        "id": "rEVBIHXLyS3m"
      },
      "source": [
        ""
      ],
      "execution_count": 589,
      "outputs": []
    }
  ]
}