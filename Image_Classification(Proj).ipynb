{
  "nbformat": 4,
  "nbformat_minor": 0,
  "metadata": {
    "colab": {
      "name": "Image Classification(Proj).ipynb",
      "provenance": [],
      "collapsed_sections": [],
      "toc_visible": true,
      "authorship_tag": "ABX9TyOoZAqCq6QZmw64bkAV3u1v",
      "include_colab_link": true
    },
    "kernelspec": {
      "name": "python3",
      "display_name": "Python 3"
    },
    "language_info": {
      "name": "python"
    }
  },
  "cells": [
    {
      "cell_type": "markdown",
      "metadata": {
        "id": "view-in-github",
        "colab_type": "text"
      },
      "source": [
        "<a href=\"https://colab.research.google.com/github/KiranJ9/Image-Classification/blob/main/Image_Classification(Proj).ipynb\" target=\"_parent\"><img src=\"https://colab.research.google.com/assets/colab-badge.svg\" alt=\"Open In Colab\"/></a>"
      ]
    },
    {
      "cell_type": "code",
      "metadata": {
        "colab": {
          "base_uri": "https://localhost:8080/"
        },
        "id": "wxAo6NNAZPrw",
        "outputId": "6b095af0-95f2-43e6-e302-ec728d08229d"
      },
      "source": [
        "#Image Data\n",
        "!pip install bing-image-downloader"
      ],
      "execution_count": 2,
      "outputs": [
        {
          "output_type": "stream",
          "text": [
            "Collecting bing-image-downloader\n",
            "  Downloading https://files.pythonhosted.org/packages/0d/bf/537a61030b84ae4cd5022d5c7b014fd9bc3ce7c02358919153a6658a61d3/bing_image_downloader-1.0.4-py3-none-any.whl\n",
            "Installing collected packages: bing-image-downloader\n",
            "Successfully installed bing-image-downloader-1.0.4\n"
          ],
          "name": "stdout"
        }
      ]
    },
    {
      "cell_type": "code",
      "metadata": {
        "colab": {
          "base_uri": "https://localhost:8080/"
        },
        "id": "D7TRZswExWeL",
        "outputId": "81e6c74f-4e05-4ef3-e4a6-069ed19163d1"
      },
      "source": [
        "!pip install ipython-autotime\n",
        "%load_ext autotime"
      ],
      "execution_count": 6,
      "outputs": [
        {
          "output_type": "stream",
          "text": [
            "Collecting ipython-autotime\n",
            "  Downloading https://files.pythonhosted.org/packages/b4/c9/b413a24f759641bc27ef98c144b590023c8038dfb8a3f09e713e9dff12c1/ipython_autotime-0.3.1-py2.py3-none-any.whl\n",
            "Requirement already satisfied: ipython in /usr/local/lib/python3.7/dist-packages (from ipython-autotime) (5.5.0)\n",
            "Requirement already satisfied: simplegeneric>0.8 in /usr/local/lib/python3.7/dist-packages (from ipython->ipython-autotime) (0.8.1)\n",
            "Requirement already satisfied: traitlets>=4.2 in /usr/local/lib/python3.7/dist-packages (from ipython->ipython-autotime) (5.0.5)\n",
            "Requirement already satisfied: setuptools>=18.5 in /usr/local/lib/python3.7/dist-packages (from ipython->ipython-autotime) (54.2.0)\n",
            "Requirement already satisfied: decorator in /usr/local/lib/python3.7/dist-packages (from ipython->ipython-autotime) (4.4.2)\n",
            "Requirement already satisfied: prompt-toolkit<2.0.0,>=1.0.4 in /usr/local/lib/python3.7/dist-packages (from ipython->ipython-autotime) (1.0.18)\n",
            "Requirement already satisfied: pickleshare in /usr/local/lib/python3.7/dist-packages (from ipython->ipython-autotime) (0.7.5)\n",
            "Requirement already satisfied: pygments in /usr/local/lib/python3.7/dist-packages (from ipython->ipython-autotime) (2.6.1)\n",
            "Requirement already satisfied: pexpect; sys_platform != \"win32\" in /usr/local/lib/python3.7/dist-packages (from ipython->ipython-autotime) (4.8.0)\n",
            "Requirement already satisfied: ipython-genutils in /usr/local/lib/python3.7/dist-packages (from traitlets>=4.2->ipython->ipython-autotime) (0.2.0)\n",
            "Requirement already satisfied: wcwidth in /usr/local/lib/python3.7/dist-packages (from prompt-toolkit<2.0.0,>=1.0.4->ipython->ipython-autotime) (0.2.5)\n",
            "Requirement already satisfied: six>=1.9.0 in /usr/local/lib/python3.7/dist-packages (from prompt-toolkit<2.0.0,>=1.0.4->ipython->ipython-autotime) (1.15.0)\n",
            "Requirement already satisfied: ptyprocess>=0.5 in /usr/local/lib/python3.7/dist-packages (from pexpect; sys_platform != \"win32\"->ipython->ipython-autotime) (0.7.0)\n",
            "Installing collected packages: ipython-autotime\n",
            "Successfully installed ipython-autotime-0.3.1\n",
            "time: 195 µs (started: 2021-04-15 09:04:16 +00:00)\n"
          ],
          "name": "stdout"
        }
      ]
    },
    {
      "cell_type": "code",
      "metadata": {
        "colab": {
          "base_uri": "https://localhost:8080/"
        },
        "id": "VpOwT4zvqK3Z",
        "outputId": "1d3997b8-1c8b-4b74-a9d5-eb2e474205c9"
      },
      "source": [
        "from bing_image_downloader import downloader\n",
        "downloader.download(\"burgers\",limit = 40,output_dir = 'ImageData')"
      ],
      "execution_count": 45,
      "outputs": [
        {
          "output_type": "stream",
          "text": [
            "\n",
            "\n",
            "[!!]Indexing page: 1\n",
            "\n",
            "[%] Indexed 12 Images on Page 1.\n",
            "\n",
            "===============================================\n",
            "\n",
            "[%] Downloading Image #1 from https://www.k9ofmine.com/wp-content/uploads/2014/09/doggie-burger.jpg\n",
            "[%] File Downloaded !\n",
            "\n",
            "[%] Downloading Image #2 from https://image.zmenu.com/menupic/191182/s_20181117161012794558.jpg\n",
            "[%] File Downloaded !\n",
            "\n",
            "[%] Downloading Image #3 from https://image.zmenu.com/menupic/2412137/s_20191211040311261026.jpeg\n",
            "[%] File Downloaded !\n",
            "\n",
            "[%] Downloading Image #4 from https://www.netherlands-tourism.com/wp-content/uploads/2013/11/Keukenhof-Tulips-and-Colors.jpg\n",
            "[%] File Downloaded !\n",
            "\n",
            "[%] Downloading Image #5 from http://deerfootinn.com/wp-content/uploads/2017/04/Kids-Pool-Party-5WEB-1.jpg\n",
            "[%] File Downloaded !\n",
            "\n",
            "[%] Downloading Image #6 from https://image.zmenu.com/menupic/2352105/s_20190110045251949408.jpg\n",
            "[%] File Downloaded !\n",
            "\n",
            "[%] Downloading Image #7 from https://image.zmenu.com/menupic/2095631/s_20190725034119443025.jpeg\n",
            "[%] File Downloaded !\n",
            "\n",
            "[%] Downloading Image #8 from https://live.staticflickr.com/6204/6145378468_cbe122ee14_b.jpg\n",
            "[%] File Downloaded !\n",
            "\n",
            "[%] Downloading Image #9 from https://image.zmenu.com/menupic/2263499/s_7f5a1fcb-3880-4a70-a393-a78e37224751.jpg\n",
            "[%] File Downloaded !\n",
            "\n",
            "[%] Downloading Image #10 from https://image.zmenu.com/menupic/5439191/s_7c982d3c-e5e6-45eb-9077-365ec6f6d5f6.jpg\n",
            "[%] File Downloaded !\n",
            "\n",
            "[%] Downloading Image #11 from https://www.nrn.com/sites/nrn.com/files/styles/article_featured_standard/public/traditional_chicken_burger_R_0.jpg?itok=1Wclbull\n",
            "[%] File Downloaded !\n",
            "\n",
            "[%] Downloading Image #12 from https://image.zmenu.com/menupic/5058999/218cd4ad-4e67-440b-b22a-300c8fc939ef.jpg\n",
            "[%] File Downloaded !\n",
            "\n",
            "\n",
            "\n",
            "[!!]Indexing page: 2\n",
            "\n",
            "[%] Indexed 12 Images on Page 2.\n",
            "\n",
            "===============================================\n",
            "\n",
            "[%] Downloading Image #13 from https://www.k9ofmine.com/wp-content/uploads/2014/09/doggie-burger.jpg\n",
            "[%] File Downloaded !\n",
            "\n",
            "[%] Downloading Image #14 from https://image.zmenu.com/menupic/191182/s_20181117161012794558.jpg\n",
            "[%] File Downloaded !\n",
            "\n",
            "[%] Downloading Image #15 from https://image.zmenu.com/menupic/2412137/s_20191211040311261026.jpeg\n",
            "[%] File Downloaded !\n",
            "\n",
            "[%] Downloading Image #16 from https://www.netherlands-tourism.com/wp-content/uploads/2013/11/Keukenhof-Tulips-and-Colors.jpg\n",
            "[%] File Downloaded !\n",
            "\n",
            "[%] Downloading Image #17 from http://deerfootinn.com/wp-content/uploads/2017/04/Kids-Pool-Party-5WEB-1.jpg\n",
            "[%] File Downloaded !\n",
            "\n",
            "[%] Downloading Image #18 from https://image.zmenu.com/menupic/2352105/s_20190110045251949408.jpg\n",
            "[%] File Downloaded !\n",
            "\n",
            "[%] Downloading Image #19 from https://image.zmenu.com/menupic/2095631/s_20190725034119443025.jpeg\n",
            "[%] File Downloaded !\n",
            "\n",
            "[%] Downloading Image #20 from https://live.staticflickr.com/6204/6145378468_cbe122ee14_b.jpg\n",
            "[%] File Downloaded !\n",
            "\n",
            "[%] Downloading Image #21 from https://image.zmenu.com/menupic/2263499/s_7f5a1fcb-3880-4a70-a393-a78e37224751.jpg\n",
            "[%] File Downloaded !\n",
            "\n",
            "[%] Downloading Image #22 from https://image.zmenu.com/menupic/5439191/s_7c982d3c-e5e6-45eb-9077-365ec6f6d5f6.jpg\n",
            "[%] File Downloaded !\n",
            "\n",
            "[%] Downloading Image #23 from https://www.nrn.com/sites/nrn.com/files/styles/article_featured_standard/public/traditional_chicken_burger_R_0.jpg?itok=1Wclbull\n",
            "[%] File Downloaded !\n",
            "\n",
            "[%] Downloading Image #24 from https://image.zmenu.com/menupic/5058999/218cd4ad-4e67-440b-b22a-300c8fc939ef.jpg\n",
            "[%] File Downloaded !\n",
            "\n",
            "\n",
            "\n",
            "[!!]Indexing page: 3\n",
            "\n",
            "[%] Indexed 11 Images on Page 3.\n",
            "\n",
            "===============================================\n",
            "\n",
            "[%] Downloading Image #25 from https://www.netherlands-tourism.com/wp-content/uploads/2013/11/Keukenhof-Tulips-and-Colors.jpg\n",
            "[%] File Downloaded !\n",
            "\n",
            "[%] Downloading Image #26 from http://deerfootinn.com/wp-content/uploads/2017/04/Kids-Pool-Party-5WEB-1.jpg\n",
            "[%] File Downloaded !\n",
            "\n",
            "[%] Downloading Image #27 from https://image.zmenu.com/menupic/2263499/s_7f5a1fcb-3880-4a70-a393-a78e37224751.jpg\n",
            "[%] File Downloaded !\n",
            "\n",
            "[%] Downloading Image #28 from https://live.staticflickr.com/6204/6145378468_cbe122ee14_b.jpg\n",
            "[%] File Downloaded !\n",
            "\n",
            "[%] Downloading Image #29 from https://image.zmenu.com/menupic/5058999/218cd4ad-4e67-440b-b22a-300c8fc939ef.jpg\n",
            "[%] File Downloaded !\n",
            "\n",
            "[%] Downloading Image #30 from https://image.zmenu.com/menupic/5439191/s_7c982d3c-e5e6-45eb-9077-365ec6f6d5f6.jpg\n",
            "[%] File Downloaded !\n",
            "\n",
            "[%] Downloading Image #31 from https://www.nrn.com/sites/nrn.com/files/styles/article_featured_standard/public/traditional_chicken_burger_R_0.jpg?itok=1Wclbull\n",
            "[%] File Downloaded !\n",
            "\n",
            "[%] Downloading Image #32 from https://image.zmenu.com/menupic/2095631/s_20190725034119443025.jpeg\n",
            "[%] File Downloaded !\n",
            "\n",
            "[%] Downloading Image #33 from https://image.zmenu.com/menupic/191182/s_20181117161012794558.jpg\n",
            "[%] File Downloaded !\n",
            "\n",
            "[%] Downloading Image #34 from https://image.zmenu.com/menupic/2352105/s_20190110045251949408.jpg\n",
            "[%] File Downloaded !\n",
            "\n",
            "[%] Downloading Image #35 from https://image.zmenu.com/menupic/2412137/s_20191211040311261026.jpeg\n",
            "[%] File Downloaded !\n",
            "\n",
            "\n",
            "\n",
            "[!!]Indexing page: 4\n",
            "\n",
            "[%] Indexed 10 Images on Page 4.\n",
            "\n",
            "===============================================\n",
            "\n",
            "[%] Downloading Image #36 from http://deerfootinn.com/wp-content/uploads/2017/04/Kids-Pool-Party-5WEB-1.jpg\n",
            "[%] File Downloaded !\n",
            "\n",
            "[%] Downloading Image #37 from https://image.zmenu.com/menupic/2095631/s_20190725034119443025.jpeg\n",
            "[%] File Downloaded !\n",
            "\n",
            "[%] Downloading Image #38 from https://live.staticflickr.com/6204/6145378468_cbe122ee14_b.jpg\n",
            "[%] File Downloaded !\n",
            "\n",
            "[%] Downloading Image #39 from https://image.zmenu.com/menupic/2412137/s_20191211040311261026.jpeg\n",
            "[%] File Downloaded !\n",
            "\n",
            "[%] Downloading Image #40 from https://image.zmenu.com/menupic/5439191/s_7c982d3c-e5e6-45eb-9077-365ec6f6d5f6.jpg\n",
            "[%] File Downloaded !\n",
            "\n",
            "\n",
            "\n",
            "[%] Done. Downloaded 40 images.\n",
            "\n",
            "===============================================\n",
            "\n",
            "time: 7.71 s (started: 2021-04-15 11:48:52 +00:00)\n"
          ],
          "name": "stdout"
        }
      ]
    },
    {
      "cell_type": "code",
      "metadata": {
        "colab": {
          "base_uri": "https://localhost:8080/"
        },
        "id": "6jegvFPXrMv8",
        "outputId": "6a89e070-0db3-498d-bd8d-4447660e9383"
      },
      "source": [
        "downloader.download(\"pizza\",limit = 40,output_dir = 'ImageData')"
      ],
      "execution_count": 4,
      "outputs": [
        {
          "output_type": "stream",
          "text": [
            "\n",
            "\n",
            "[!!]Indexing page: 1\n",
            "\n",
            "[%] Indexed 12 Images on Page 1.\n",
            "\n",
            "===============================================\n",
            "\n",
            "[%] Downloading Image #1 from https://klyker.com/wp-content/uploads/2015/03/animals-eating-pizza-20.jpg\n",
            "[%] File Downloaded !\n",
            "\n",
            "[%] Downloading Image #2 from https://image.zmenu.com/menupic/455322/s_20200204232409179077.jpeg\n",
            "[%] File Downloaded !\n",
            "\n",
            "[%] Downloading Image #3 from https://image.zmenu.com/menupic/5036939/s_581df05c-d114-457f-8fa5-56c299d474d1.jpg\n",
            "[%] File Downloaded !\n",
            "\n",
            "[%] Downloading Image #4 from https://www.showbizpizza.com/photos/misc/emo/09.jpg\n",
            "[%] File Downloaded !\n",
            "\n",
            "[%] Downloading Image #5 from https://image.zmenu.com/menupic/208446/s_3907c11c-6ee7-4365-b1d0-aa6908ce4069.jpg\n",
            "[%] File Downloaded !\n",
            "\n",
            "[%] Downloading Image #6 from https://www.thestonebakeovencompany.co.uk/wp/wp-content/uploads/Picture1.png\n",
            "[%] File Downloaded !\n",
            "\n",
            "[%] Downloading Image #7 from https://image.zmenu.com/menupic/4773095/s_ff931230-b30c-4c64-9557-ec6ed5372420.jpg\n",
            "[%] File Downloaded !\n",
            "\n",
            "[%] Downloading Image #8 from https://www.wininganddining.co.za/gallery/2175-23728-header.jpg\n",
            "[%] File Downloaded !\n",
            "\n",
            "[%] Downloading Image #9 from http://wanna-joke.com/wp-content/uploads/2014/12/funny-dog-standing-kitchen-woman-window.jpg\n",
            "[%] File Downloaded !\n",
            "\n",
            "[%] Downloading Image #10 from http://wanna-joke.com/wp-content/uploads/2013/10/funny-picture-rat-office-scared-lady.jpg\n",
            "[%] File Downloaded !\n",
            "\n",
            "[%] Downloading Image #11 from https://image.zmenu.com/menupic/5057087/s_2dd56fc1-8c78-4cab-86fe-01db043ca75b.jpg\n",
            "[%] File Downloaded !\n",
            "\n",
            "[%] Downloading Image #12 from https://image.zmenu.com/menupic/2355225/s_0c8ddc9e-fd3b-4818-9be1-66262b957baa.jpg\n",
            "[%] File Downloaded !\n",
            "\n",
            "\n",
            "\n",
            "[!!]Indexing page: 2\n",
            "\n",
            "[%] Indexed 12 Images on Page 2.\n",
            "\n",
            "===============================================\n",
            "\n",
            "[%] Downloading Image #13 from https://creepshots.org/wp-content/uploads/2017/12/teen-eating-pizza-update-3.jpg\n",
            "[%] File Downloaded !\n",
            "\n",
            "[%] Downloading Image #14 from https://cf.broadsheet.ie/wp-content/uploads/2012/10/30051002319421.jpg\n",
            "[%] File Downloaded !\n",
            "\n",
            "[%] Downloading Image #15 from https://www.topdreamer.com/wp-content/uploads/2013/05/Outdoor-Fireplace-18.jpg\n",
            "[%] File Downloaded !\n",
            "\n",
            "[%] Downloading Image #16 from https://wanna-joke.com/wp-content/uploads/2014/03/funny-picture-owl-making-fun-skinny.jpg\n",
            "[%] File Downloaded !\n",
            "\n",
            "[%] Downloading Image #17 from http://wanna-joke.com/wp-content/uploads/2014/12/funny-Star-Wars-Darth-Vader-dad-pun.jpg\n",
            "[%] File Downloaded !\n",
            "\n",
            "[%] Downloading Image #18 from https://showbizpizza.com/photos/cec/ma_danvers/03.jpg\n",
            "[%] File Downloaded !\n",
            "\n",
            "[%] Downloading Image #19 from https://www.showbizpizza.com/photos/cec/tx_irving_cv3/05.jpg\n",
            "[%] File Downloaded !\n",
            "\n",
            "[%] Downloading Image #20 from https://www.recreoviral.com/wp-content/uploads/2015/03/las-fotos-mas-divertidas-con-la-torre-de-pisa-9.jpg\n",
            "[%] File Downloaded !\n",
            "\n",
            "[%] Downloading Image #21 from https://image.zmenu.com/menupic/4387993/s_3bca7be0-8565-49b5-95c9-68594bee79f9.jpg\n",
            "[%] File Downloaded !\n",
            "\n",
            "[%] Downloading Image #22 from https://www.tucucu.com/wp-content/uploads/2015/06/pizzas-en-forma-de-corazn-6.jpg\n",
            "[%] File Downloaded !\n",
            "\n",
            "[%] Downloading Image #23 from http://wanna-joke.com/wp-content/uploads/2013/11/funny-picture-the-walking-ted.jpg\n",
            "[%] File Downloaded !\n",
            "\n",
            "[%] Downloading Image #24 from https://wanna-joke.com/wp-content/uploads/2014/12/funny-dog-standing-kitchen-woman-window.jpg\n",
            "[%] File Downloaded !\n",
            "\n",
            "\n",
            "\n",
            "[!!]Indexing page: 3\n",
            "\n",
            "[%] Indexed 11 Images on Page 3.\n",
            "\n",
            "===============================================\n",
            "\n",
            "[%] Downloading Image #25 from https://www.showbizpizza.com/photos/misc/emo/09.jpg\n",
            "[%] File Downloaded !\n",
            "\n",
            "[%] Downloading Image #26 from http://wanna-joke.com/wp-content/uploads/2013/10/funny-picture-rat-office-scared-lady.jpg\n",
            "[%] File Downloaded !\n",
            "\n",
            "[%] Downloading Image #27 from https://www.thestonebakeovencompany.co.uk/wp/wp-content/uploads/Picture1.png\n",
            "[%] File Downloaded !\n",
            "\n",
            "[%] Downloading Image #28 from https://image.zmenu.com/menupic/4773095/s_ff931230-b30c-4c64-9557-ec6ed5372420.jpg\n",
            "[%] File Downloaded !\n",
            "\n",
            "[%] Downloading Image #29 from https://www.wininganddining.co.za/gallery/2175-23728-header.jpg\n",
            "[%] File Downloaded !\n",
            "\n",
            "[%] Downloading Image #30 from https://image.zmenu.com/menupic/5036939/s_581df05c-d114-457f-8fa5-56c299d474d1.jpg\n",
            "[%] File Downloaded !\n",
            "\n",
            "[%] Downloading Image #31 from https://image.zmenu.com/menupic/5057087/s_2dd56fc1-8c78-4cab-86fe-01db043ca75b.jpg\n",
            "[%] File Downloaded !\n",
            "\n",
            "[%] Downloading Image #32 from https://image.zmenu.com/menupic/2355225/s_0c8ddc9e-fd3b-4818-9be1-66262b957baa.jpg\n",
            "[%] File Downloaded !\n",
            "\n",
            "[%] Downloading Image #33 from https://image.zmenu.com/menupic/455322/s_20200204232409179077.jpeg\n",
            "[%] File Downloaded !\n",
            "\n",
            "[%] Downloading Image #34 from http://wanna-joke.com/wp-content/uploads/2014/12/funny-dog-standing-kitchen-woman-window.jpg\n",
            "[%] File Downloaded !\n",
            "\n",
            "[%] Downloading Image #35 from https://image.zmenu.com/menupic/208446/s_3907c11c-6ee7-4365-b1d0-aa6908ce4069.jpg\n",
            "[%] File Downloaded !\n",
            "\n",
            "\n",
            "\n",
            "[!!]Indexing page: 4\n",
            "\n",
            "[%] Indexed 10 Images on Page 4.\n",
            "\n",
            "===============================================\n",
            "\n",
            "[%] Downloading Image #36 from https://www.thestonebakeovencompany.co.uk/wp/wp-content/uploads/Picture1.png\n",
            "[%] File Downloaded !\n",
            "\n",
            "[%] Downloading Image #37 from https://image.zmenu.com/menupic/2355225/s_0c8ddc9e-fd3b-4818-9be1-66262b957baa.jpg\n",
            "[%] File Downloaded !\n",
            "\n",
            "[%] Downloading Image #38 from https://www.wininganddining.co.za/gallery/2175-23728-header.jpg\n",
            "[%] File Downloaded !\n",
            "\n",
            "[%] Downloading Image #39 from https://image.zmenu.com/menupic/5057087/s_2dd56fc1-8c78-4cab-86fe-01db043ca75b.jpg\n",
            "[%] File Downloaded !\n",
            "\n",
            "[%] Downloading Image #40 from http://wanna-joke.com/wp-content/uploads/2014/12/funny-dog-standing-kitchen-woman-window.jpg\n",
            "[%] File Downloaded !\n",
            "\n",
            "\n",
            "\n",
            "[%] Done. Downloaded 40 images.\n",
            "\n",
            "===============================================\n",
            "\n"
          ],
          "name": "stdout"
        }
      ]
    },
    {
      "cell_type": "code",
      "metadata": {
        "colab": {
          "base_uri": "https://localhost:8080/"
        },
        "id": "Ez9plquBwcaI",
        "outputId": "841121d4-e040-487c-c7a8-a39cf7222dc7"
      },
      "source": [
        "downloader.download(\"tasty pastas\",limit = 40,output_dir = 'ImageData')"
      ],
      "execution_count": 5,
      "outputs": [
        {
          "output_type": "stream",
          "text": [
            "\n",
            "\n",
            "[!!]Indexing page: 1\n",
            "\n",
            "[%] Indexed 12 Images on Page 1.\n",
            "\n",
            "===============================================\n",
            "\n",
            "[%] Downloading Image #1 from https://img.buzzfeed.com/buzzfeed-static/static/2014-11/30/10/campaign_images/webdr08/easy-pasta-recipes-2-1878-1417359867-9_dblbig.jpg\n",
            "[%] File Downloaded !\n",
            "\n",
            "[%] Downloading Image #2 from https://www.liveeatlearn.com/wp-content/uploads/2015/09/pesto-spaghetti-squash-vert.jpg\n",
            "[%] File Downloaded !\n",
            "\n",
            "[%] Downloading Image #3 from https://irepo.primecp.com/2016/07/290611/Fathers-Day-Menu_ExtraLarge1000_ID-1768226.png?v=1768226\n",
            "[%] File Downloaded !\n",
            "\n",
            "[%] Downloading Image #4 from https://i2.wp.com/wellplated.com/wp-content/uploads/2018/07/Grilled-Portobello-Mushrooms.jpg\n",
            "[%] File Downloaded !\n",
            "\n",
            "[%] Downloading Image #5 from https://marinmamacooks.com/wp-content/uploads/2013/07/chopped-shallots.jpg\n",
            "[%] File Downloaded !\n",
            "\n",
            "[%] Downloading Image #6 from http://irepo.primecp.com/2015/07/230558/Firecracker-Shrimp_ExtraLarge1000_ID-1117205.jpg?v=1117205\n",
            "[%] File Downloaded !\n",
            "\n",
            "[%] Downloading Image #7 from https://www.wellplated.com/wp-content/uploads/2017/05/Healthy-Blueberry-French-Toast-1.jpg\n",
            "[%] File Downloaded !\n",
            "\n",
            "[%] Downloading Image #8 from https://i2.wp.com/wellplated.com/wp-content/uploads/2019/12/Vegan-Hot-Chocolate-healthy.jpg\n",
            "[%] File Downloaded !\n",
            "\n",
            "[%] Downloading Image #9 from http://irepo.primecp.com/2016/07/290552/All-American-Tailgate-Menu_ExtraLarge1000_ID-1767572.png?v=1767572\n",
            "[%] File Downloaded !\n",
            "\n",
            "[%] Downloading Image #10 from https://www.eaglewaters.com/wp-content/uploads/2016/06/compressed-restaurant-2015.jpg\n",
            "[%] File Downloaded !\n",
            "\n",
            "[%] Downloading Image #11 from https://www.wellplated.com/wp-content/uploads/2019/02/Lemon-Poke-Cake-Recipe.jpg\n",
            "[%] File Downloaded !\n",
            "\n",
            "[%] Downloading Image #12 from https://img.buzzfeed.com/buzzfeed-static/static/2015-02/14/15/enhanced/webdr01/original-28950-1423945277-4.jpg\n",
            "[%] File Downloaded !\n",
            "\n",
            "\n",
            "\n",
            "[!!]Indexing page: 2\n",
            "\n",
            "[%] Indexed 12 Images on Page 2.\n",
            "\n",
            "===============================================\n",
            "\n",
            "[%] Downloading Image #13 from https://i.pinimg.com/736x/82/e8/33/82e833ed1f9d34f21f21f73e7fb39fb6.jpg\n",
            "[%] File Downloaded !\n",
            "\n",
            "[%] Downloading Image #14 from https://koshercowboy.com/wp-content/uploads/2018/02/Curried-Chickpeas-and-Spinach-by-budgetbytes.jpg\n",
            "[%] File Downloaded !\n",
            "\n",
            "[%] Downloading Image #15 from http://cdn.trendhunterstatic.com/thumbs/edamame-spaghetti.jpeg\n",
            "[%] File Downloaded !\n",
            "\n",
            "[%] Downloading Image #16 from https://irepo.primecp.com/2016/11/308816/Weeknight-Surf-n-Turf_ExtraLarge1000_ID-1980373.jpg?v=1980373\n",
            "[%] File Downloaded !\n",
            "\n",
            "[%] Downloading Image #17 from https://i0.wp.com/www.spoonfulofbutter.com/wp-content/uploads/2016/08/Creamy-Herb-Mushroom-Sauce-1.jpg?fit=1200%2C1800&amp;ssl=1\n",
            "[%] File Downloaded !\n",
            "\n",
            "[%] Downloading Image #18 from https://i2.wp.com/wellplated.com/wp-content/uploads/2018/08/Banana-Bars-recipe.jpg\n",
            "[%] File Downloaded !\n",
            "\n",
            "[%] Downloading Image #19 from https://foodchain.co.za/wp-content/uploads/2018/07/FoodChain-47-400x267.jpg\n",
            "[%] File Downloaded !\n",
            "\n",
            "[%] Downloading Image #20 from https://irepo.primecp.com/2016/07/290552/All-American-Tailgate-Menu_ExtraLarge1000_ID-1767572.png?v=1767572\n",
            "[%] File Downloaded !\n",
            "\n",
            "[%] Downloading Image #21 from https://thumbs.dreamstime.com/z/pasta-cereal-rice-18597184.jpg\n",
            "[%] File Downloaded !\n",
            "\n",
            "[%] Downloading Image #22 from http://www.wikichef.net/webapp/img/recipes/0ab942_sandwich-vegetariano_w1000.jpg\n",
            "[%] File Downloaded !\n",
            "\n",
            "[%] Downloading Image #23 from https://www.wellplated.com/wp-content/uploads/2017/07/Healthy-Triple-Berry-Crisp.jpg\n",
            "[%] File Downloaded !\n",
            "\n",
            "[%] Downloading Image #24 from https://irepo.primecp.com/2016/07/291770/Southern-Style-Breakfast-Menu_ExtraLarge1000_ID-1780988.png?v=1780988\n",
            "[%] File Downloaded !\n",
            "\n",
            "\n",
            "\n",
            "[!!]Indexing page: 3\n",
            "\n",
            "[%] Indexed 11 Images on Page 3.\n",
            "\n",
            "===============================================\n",
            "\n",
            "[%] Downloading Image #25 from http://cdn.trendhunterstatic.com/thumbs/edamame-spaghetti.jpeg\n",
            "[%] File Downloaded !\n",
            "\n",
            "[%] Downloading Image #26 from https://i2.wp.com/wellplated.com/wp-content/uploads/2018/08/Banana-Bars-recipe.jpg\n",
            "[%] File Downloaded !\n",
            "\n",
            "[%] Downloading Image #27 from https://thumbs.dreamstime.com/z/pasta-cereal-rice-18597184.jpg\n",
            "[%] File Downloaded !\n",
            "\n",
            "[%] Downloading Image #28 from https://www.wellplated.com/wp-content/uploads/2017/07/Healthy-Triple-Berry-Crisp.jpg\n",
            "[%] File Downloaded !\n",
            "\n",
            "[%] Downloading Image #29 from https://foodchain.co.za/wp-content/uploads/2018/07/FoodChain-47-400x267.jpg\n",
            "[%] File Downloaded !\n",
            "\n",
            "[%] Downloading Image #30 from https://irepo.primecp.com/2016/11/308816/Weeknight-Surf-n-Turf_ExtraLarge1000_ID-1980373.jpg?v=1980373\n",
            "[%] File Downloaded !\n",
            "\n",
            "[%] Downloading Image #31 from https://irepo.primecp.com/2016/07/291770/Southern-Style-Breakfast-Menu_ExtraLarge1000_ID-1780988.png?v=1780988\n",
            "[%] File Downloaded !\n",
            "\n",
            "[%] Downloading Image #32 from https://koshercowboy.com/wp-content/uploads/2018/02/Curried-Chickpeas-and-Spinach-by-budgetbytes.jpg\n",
            "[%] File Downloaded !\n",
            "\n",
            "[%] Downloading Image #33 from https://irepo.primecp.com/2016/07/290552/All-American-Tailgate-Menu_ExtraLarge1000_ID-1767572.png?v=1767572\n",
            "[%] File Downloaded !\n",
            "\n",
            "[%] Downloading Image #34 from https://i0.wp.com/www.spoonfulofbutter.com/wp-content/uploads/2016/08/Creamy-Herb-Mushroom-Sauce-1.jpg?fit=1200%2C1800&amp;ssl=1\n",
            "[%] File Downloaded !\n",
            "\n",
            "[%] Downloading Image #35 from http://www.wikichef.net/webapp/img/recipes/0ab942_sandwich-vegetariano_w1000.jpg\n",
            "[%] File Downloaded !\n",
            "\n",
            "\n",
            "\n",
            "[!!]Indexing page: 4\n",
            "\n",
            "[%] Indexed 10 Images on Page 4.\n",
            "\n",
            "===============================================\n",
            "\n",
            "[%] Downloading Image #36 from https://www.wellplated.com/wp-content/uploads/2017/05/Healthy-Blueberry-French-Toast-1.jpg\n",
            "[%] File Downloaded !\n",
            "\n",
            "[%] Downloading Image #37 from https://i2.wp.com/wellplated.com/wp-content/uploads/2019/12/Vegan-Hot-Chocolate-healthy.jpg\n",
            "[%] File Downloaded !\n",
            "\n",
            "[%] Downloading Image #38 from https://irepo.primecp.com/2016/07/290611/Fathers-Day-Menu_ExtraLarge1000_ID-1768226.png?v=1768226\n",
            "[%] File Downloaded !\n",
            "\n",
            "[%] Downloading Image #39 from https://www.eaglewaters.com/wp-content/uploads/2016/06/compressed-restaurant-2015.jpg\n",
            "[%] File Downloaded !\n",
            "\n",
            "[%] Downloading Image #40 from https://marinmamacooks.com/wp-content/uploads/2013/07/chopped-shallots.jpg\n",
            "[%] File Downloaded !\n",
            "\n",
            "\n",
            "\n",
            "[%] Done. Downloaded 40 images.\n",
            "\n",
            "===============================================\n",
            "\n"
          ],
          "name": "stdout"
        }
      ]
    },
    {
      "cell_type": "code",
      "metadata": {
        "id": "ww8CJQjCw51G"
      },
      "source": [
        "#Preprocessing the ImageData\n",
        "import os\n",
        "import matplotlib.pyplot as plt\n",
        "import numpy as np\n",
        "from skimage.io import imread #To read the image\n",
        "from skimage.transform import resize #Resizing the image\n",
        "\n",
        "output = []\n",
        "images = []\n",
        "flat_data = []\n",
        "\n",
        "DATADIR = '/content/ImageData'\n",
        "CATEGORIES = ['burgers','pizza','tasty pastas']\n",
        "for category in CATEGORIES:\n",
        "  num_class = CATEGORIES.index(category)\n",
        "  print(num_class)\n",
        "  path = os.path.join(DATADIR,category)\n",
        "  print(path)\n",
        "  for img in os.listdir(path):\n",
        "    img_read = imread(os.path.join(path,img))\n",
        "    print(img_read)\n",
        "    resized_img = resize(img_read,(100,100,3))\n",
        "    flat_data.append(resized_img.flatten())\n",
        "    images.append(resized_img)\n",
        "    output.append(num_class)\n",
        "\n",
        "flat_data = np.array(flat_data)\n",
        "output = np.array(output)\n",
        "images = np.array(images)    "
      ],
      "execution_count": null,
      "outputs": []
    },
    {
      "cell_type": "code",
      "metadata": {
        "colab": {
          "base_uri": "https://localhost:8080/"
        },
        "id": "fPyfLEbrUJ_4",
        "outputId": "971d9fc6-e77e-4fd1-d312-1d214d9b6c3d"
      },
      "source": [
        "print(flat_data)"
      ],
      "execution_count": 72,
      "outputs": [
        {
          "output_type": "stream",
          "text": [
            "[[0.41866667 0.43827451 0.41678431 ... 0.36413961 0.40784314 0.34509804]\n",
            " [0.60606373 0.59037745 0.58645588 ... 0.13592157 0.13135294 0.15258824]\n",
            " [0.07490196 0.46196078 0.26352941 ... 0.14509804 0.13333333 0.11372549]\n",
            " ...\n",
            " [0.02745098 0.01015686 0.01568627 ... 0.96470588 0.96470588 0.96470588]\n",
            " [0.67336601 0.11617647 0.84575163 ... 0.6627451  0.11568627 0.84640523]\n",
            " [0.50326797 0.19019608 0.86078431 ... 0.51029412 0.19754902 0.8619281 ]]\n",
            "time: 8.25 ms (started: 2021-04-15 12:03:21 +00:00)\n"
          ],
          "name": "stdout"
        }
      ]
    },
    {
      "cell_type": "code",
      "metadata": {
        "colab": {
          "base_uri": "https://localhost:8080/"
        },
        "id": "Frg875s6VQbJ",
        "outputId": "e900e746-00a7-49f0-c3d7-babd0a5fa79d"
      },
      "source": [
        "output"
      ],
      "execution_count": 73,
      "outputs": [
        {
          "output_type": "execute_result",
          "data": {
            "text/plain": [
              "array([0, 0, 0, 0, 0, 0, 0, 0, 0, 0, 0, 0, 0, 0, 0, 0, 0, 0, 0, 0, 0, 0,\n",
              "       0, 0, 0, 0, 0, 0, 0, 0, 0, 0, 0, 0, 0, 0, 0, 0, 0, 0, 0, 0, 0, 1,\n",
              "       1, 1, 1, 1, 1, 1, 1, 1, 1, 1, 1, 1, 1, 1, 1, 1, 1, 1, 1, 1, 1, 1,\n",
              "       1, 1, 1, 1, 1, 1, 1, 1, 1, 1, 1, 1, 1, 1, 1, 1, 1, 2, 2, 2, 2, 2,\n",
              "       2, 2, 2, 2, 2, 2, 2, 2, 2, 2, 2, 2, 2, 2, 2, 2, 2, 2, 2, 2, 2, 2,\n",
              "       2, 2, 2, 2, 2, 2, 2, 2, 2, 2, 2, 2, 2])"
            ]
          },
          "metadata": {
            "tags": []
          },
          "execution_count": 73
        },
        {
          "output_type": "stream",
          "text": [
            "time: 7.76 ms (started: 2021-04-15 12:03:26 +00:00)\n"
          ],
          "name": "stdout"
        }
      ]
    },
    {
      "cell_type": "code",
      "metadata": {
        "colab": {
          "base_uri": "https://localhost:8080/",
          "height": 298
        },
        "id": "O9mpbjLbWv1E",
        "outputId": "9340e7dc-7d88-4c0e-f490-70d735556178"
      },
      "source": [
        "unique, count = np.unique(output,return_counts=True)\n",
        "plt.bar(CATEGORIES,count)"
      ],
      "execution_count": 67,
      "outputs": [
        {
          "output_type": "execute_result",
          "data": {
            "text/plain": [
              "<BarContainer object of 3 artists>"
            ]
          },
          "metadata": {
            "tags": []
          },
          "execution_count": 67
        },
        {
          "output_type": "display_data",
          "data": {
            "image/png": "[encoded data removed]",
            "text/plain": [
              "<Figure size 432x288 with 1 Axes>"
            ]
          },
          "metadata": {
            "tags": [],
            "needs_background": "light"
          }
        },
        {
          "output_type": "stream",
          "text": [
            "time: 163 ms (started: 2021-04-15 12:01:05 +00:00)\n"
          ],
          "name": "stdout"
        }
      ]
    },
    {
      "cell_type": "code",
      "metadata": {
        "id": "oqjyLmVWYqKm"
      },
      "source": [
        " "
      ],
      "execution_count": null,
      "outputs": []
    }
  ]
}